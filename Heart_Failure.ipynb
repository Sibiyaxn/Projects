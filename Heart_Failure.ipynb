{
 "cells": [
  {
   "cell_type": "markdown",
   "metadata": {
    "colab_type": "text",
    "id": "view-in-github"
   },
   "source": [
    "<a href=\"https://colab.research.google.com/github/Nokulunga77/Heart-Failure-kaggle/blob/main/Heart_Failure.ipynb\" target=\"_parent\"><img src=\"https://colab.research.google.com/assets/colab-badge.svg\" alt=\"Open In Colab\"/></a>"
   ]
  },
  {
   "cell_type": "markdown",
   "metadata": {
    "id": "fU7bEYD4hTkp"
   },
   "source": [
    "## **HEART FAILURE PREDICTIONS**"
   ]
  },
  {
   "cell_type": "markdown",
   "metadata": {
    "id": "PqYO-jzQXXGo"
   },
   "source": [
    "<img src=\"https://images.ctfassets.net/yixw23k2v6vo/6BezXYKnMqcG4LSEcWyXlt/b490656e99f34bc18999f3563470eae6/iStock-1156928054.jpg?fm=webp&fit=thumb&q=65&w=864&h=576\" >"
   ]
  },
  {
   "cell_type": "markdown",
   "metadata": {
    "id": "j7lZQXV2Ud8g"
   },
   "source": [
    "\n",
    "\n",
    "\n",
    "\n"
   ]
  },
  {
   "cell_type": "markdown",
   "metadata": {
    "id": "51DXzvcGoZ20"
   },
   "source": [
    "## Table of contents\n",
    "1. [Introduction](#intro)\n",
    "2. [Data Collection](#data)\n",
    "3. [Data Preprocessing](#cleaning)\n",
    "4. [Exploratory Data Analysis](#EDA)\n",
    "5. [Feature Engineering And Selection](#features)\n",
    "6. [Model Building And Evaluation](#model)\n",
    "7. [Model Hyperparameter Tuning](#tuning)\n",
    "8. [Conclusion](#conclusion)\n",
    "9. [References](#references)"
   ]
  },
  {
   "cell_type": "markdown",
   "metadata": {
    "id": "xvPWLro4h1RJ"
   },
   "source": [
    "<a id=\"intro\"></a>\n",
    "# 1. **Introduction**"
   ]
  },
  {
   "cell_type": "markdown",
   "metadata": {
    "id": "8tFwlS8Ohunp"
   },
   "source": [
    "Heart diseases are often used in exchange for cardiovascular diseases. These kinds of diseases mainly refer to the conditions of blocked or narrowed blood vessels, resulting in a stroke, chest pain or angina, and heart attack.\n",
    "\n",
    "Other kinds of heart conditions, such as those affecting the rhythm, valve, or muscle of the heart, are other types of heart diseases. On the other hand, machine learning is crucial for determining whether anyone has suffered from heart disease. In either case, if these are predicted ahead of time, doctors would have a much easier time gaining crucial information for treating and diagnosing patients. Heart disease is mainly an incorrect symptom of coronary artery disease. It is also known as a cardiac disease; therefore, it is not with cardiovascular disease, which is any blood vessel disease."
   ]
  },
  {
   "cell_type": "markdown",
   "metadata": {
    "id": "vf70v7hitdjI"
   },
   "source": [
    "**Context**\n",
    "\n",
    "\n",
    "Cardiovascular diseases (CVDs) are the number 1 cause of death globally, taking an estimated 17.9 million lives each year, which accounts for 31% of all deaths worldwide. Four out of 5CVD deaths are due to heart attacks and strokes, and one-third of these deaths occur prematurely in people under 70 years of age. Heart failure is a common event caused by CVDs and this dataset contains 11 features that can be used to predict a possible heart disease.\n",
    "\n",
    "People with cardiovascular disease or who are at high cardiovascular risk (due to the presence of one or more risk factors such as hypertension, diabetes, hyperlipidaemia or already established disease) need early detection and management wherein a machine learning model can be of great help.\n",
    "\n",
    "**Symptoms of heart attacks and strokes**\n",
    "\n",
    "Often, there are no symptoms of the underlying disease of the blood vessels. A heart attack or stroke may be the first sign of underlying disease. Symptoms of a heart attack include:\n",
    "\n",
    "- pain or discomfort in the centre of the chest; and/or\n",
    "- pain or discomfort in the arms, the left shoulder, elbows, jaw, or back."
   ]
  },
  {
   "cell_type": "markdown",
   "metadata": {
    "id": "HZcY9jzFiNU4"
   },
   "source": [
    "**Problem Statement**\n",
    "\n",
    "Day by day the cases of heart diseases are increasing at a rapid rate and it’s very Important\n",
    "and concerning to predict any such diseases beforehand. This diagnosis is a difficult task for instances it should\n",
    "be performed precisely and efficiently. This project mainly focuses on which patient is more\n",
    "likely to have a heart disease based on various medical attributes."
   ]
  },
  {
   "cell_type": "markdown",
   "metadata": {
    "id": "R7d7dhWeiTqN"
   },
   "source": [
    "**Objective / Aim**\n",
    "\n",
    "- The objective of this project is to check whether the patient is likely to be diagnosed with any\n",
    "cardiovascular heart diseases based on their medical attributes such as sex, age and chest pain. \n",
    "\n",
    "- Create a application that will predict if patient is likely to have heart disease using Streamlit"
   ]
  },
  {
   "cell_type": "markdown",
   "metadata": {
    "id": "TmzBd96Lk6cq"
   },
   "source": [
    "<a id=\"data\"></a>\n",
    "# 2. **Data Collection**"
   ]
  },
  {
   "cell_type": "code",
   "execution_count": null,
   "metadata": {
    "id": "CfK43j_1UGM6"
   },
   "outputs": [],
   "source": [
    "# Libraries for data loading, data manipulation and data visulisation\n",
    "import numpy as np\n",
    "import pandas as pd\n",
    "\n",
    "import requests\n",
    "import io\n",
    "#\n",
    "import matplotlib.pyplot as plt\n",
    "from matplotlib import rc\n",
    "import seaborn as sns\n",
    "from statsmodels.graphics.correlation import plot_corr\n",
    "from scipy.stats import skew\n",
    "from scipy.stats import kurtosis\n",
    "import statistics\n",
    "\n",
    "# datetime\n",
    "import datetime\n",
    "\n",
    "# Libraries for data preparation and model building\n",
    "from sklearn.utils import resample\n",
    "from sklearn.preprocessing import LabelEncoder\n",
    "import statsmodels.formula.api as sm\n",
    "from statsmodels.formula.api import ols\n",
    "from sklearn import metrics\n",
    "from sklearn.svm import SVR\n",
    "from xgboost.sklearn import XGBRegressor\n",
    "from sklearn.feature_selection import RFE\n",
    "from sklearn.feature_selection import RFECV\n",
    "from sklearn.feature_selection import SelectKBest, chi2\n",
    "from scipy.stats import boxcox, zscore\n",
    "from sklearn.metrics import mean_squared_error\n",
    "from sklearn.tree import DecisionTreeRegressor\n",
    "from sklearn.compose import ColumnTransformer\n",
    "from sklearn.ensemble import RandomForestRegressor, VotingRegressor, StackingRegressor, BaggingRegressor, AdaBoostRegressor\n",
    "from sklearn.linear_model import Lasso, Ridge, LinearRegression\n",
    "from sklearn.model_selection import train_test_split, KFold, cross_val_score, GridSearchCV\n",
    "from sklearn.preprocessing import LabelEncoder, OneHotEncoder, StandardScaler, PolynomialFeatures\n",
    "\n",
    "# Deep Learning\n",
    "\n",
    "# for operating system\n",
    "import os\n",
    "\n",
    "#tensorflow\n",
    "import tensorflow as tf\n",
    "\n",
    "from tensorflow import keras\n",
    "from tensorflow.keras.models import Sequential\n",
    "from tensorflow.keras.layers import Activation, Dense, BatchNormalization, Dropout\n",
    "from tensorflow.keras import optimizers\n",
    "\n",
    "# saving my model\n",
    "import pickle\n",
    "\n",
    "#ignoring warnings\n",
    "import warnings\n",
    "warnings.filterwarnings('ignore')\n",
    "\n",
    "#ignoring warnings\n",
    "import warnings\n",
    "warnings.filterwarnings('ignore')\n",
    "%matplotlib inline\n",
    "\n",
    "#making sure that we can see all rows and cols\n",
    "pd.set_option('display.max_columns', None)\n",
    "\n",
    "pd.set_option('display.max_rows', None)"
   ]
  },
  {
   "cell_type": "code",
   "execution_count": null,
   "metadata": {
    "id": "wWqaMPCTVKN9"
   },
   "outputs": [],
   "source": [
    "url = \"https://github.com/Nokulunga77/Heart-Failure-kaggle/blob/main/heart.csv?raw=true\" # Make sure the url is the raw version of the file on GitHub\n",
    "download = requests.get(url).content\n",
    "\n",
    "# Reading the downloaded content and turning it into a pandas dataframe\n",
    "df = pd.read_csv(io.StringIO(download.decode('utf-8')))"
   ]
  },
  {
   "cell_type": "markdown",
   "metadata": {
    "id": "89mBKf9LYjMq"
   },
   "source": [
    "**Attribute Information**\n",
    "\n",
    "1. Age: age of the patient [years]\n",
    "\n",
    "2. Sex: sex of the patient [M: Male, F: Female]\n",
    "\n",
    "3. ChestPainType: chest pain type [TA: Typical Angina, ATA: Atypical Angina, NAP: Non-Anginal Pain, ASY: Asymptomatic]\n",
    "\n",
    "4. RestingBP: resting blood pressure [mm Hg]\n",
    "\n",
    "5. Cholesterol: serum cholesterol [mm/dl]\n",
    "\n",
    "6. FastingBS: fasting blood sugar [1: if FastingBS > 120 mg/dl, 0: otherwise]\n",
    "\n",
    "7. RestingECG: resting electrocardiogram results [Normal: Normal, ST: having ST-T wave abnormality (T wave inversions and/or ST elevation or depression of > 0.05 mV), LVH: showing probable or definite left ventricular hypertrophy by Estes' criteria]\n",
    "\n",
    "8. MaxHR: maximum heart rate achieved [Numeric value between 60 and 202]\n",
    "\n",
    "9. ExerciseAngina: exercise-induced angina [Y: Yes, N: No]\n",
    "\n",
    "10. Oldpeak: oldpeak = ST [Numeric value measured in depression]\n",
    "\n",
    "11. ST_Slope: the slope of the peak exercise ST segment [Up: upsloping, Flat: flat, Down: downsloping]\n",
    "\n",
    "12. HeartDisease: output class [1: heart disease, 0: Normal]"
   ]
  },
  {
   "cell_type": "markdown",
   "metadata": {
    "id": "nE3-VkgAlD7Y"
   },
   "source": [
    "<a id=\"cleaning\"></a>\n",
    "## 3. **Data Preprocessing**"
   ]
  },
  {
   "cell_type": "markdown",
   "metadata": {
    "id": "3w5jhH9tbyDM"
   },
   "source": [
    "Data preprocessing is a technique that involves taking in raw data and transforming it into a understandable format and useful. The technique includes data cleaning, intergration, transformation, reduction and discretization."
   ]
  },
  {
   "cell_type": "code",
   "execution_count": null,
   "metadata": {
    "colab": {
     "base_uri": "https://localhost:8080/",
     "height": 206
    },
    "id": "XHCM8daddtwR",
    "outputId": "18f851ea-ea1f-46c3-91ea-fd72a7e08ea4"
   },
   "outputs": [
    {
     "data": {
      "text/html": [
       "\n",
       "  <div id=\"df-642bf29d-86e8-4563-90cb-11f655329876\">\n",
       "    <div class=\"colab-df-container\">\n",
       "      <div>\n",
       "<style scoped>\n",
       "    .dataframe tbody tr th:only-of-type {\n",
       "        vertical-align: middle;\n",
       "    }\n",
       "\n",
       "    .dataframe tbody tr th {\n",
       "        vertical-align: top;\n",
       "    }\n",
       "\n",
       "    .dataframe thead th {\n",
       "        text-align: right;\n",
       "    }\n",
       "</style>\n",
       "<table border=\"1\" class=\"dataframe\">\n",
       "  <thead>\n",
       "    <tr style=\"text-align: right;\">\n",
       "      <th></th>\n",
       "      <th>Age</th>\n",
       "      <th>Sex</th>\n",
       "      <th>ChestPainType</th>\n",
       "      <th>RestingBP</th>\n",
       "      <th>Cholesterol</th>\n",
       "      <th>FastingBS</th>\n",
       "      <th>RestingECG</th>\n",
       "      <th>MaxHR</th>\n",
       "      <th>ExerciseAngina</th>\n",
       "      <th>Oldpeak</th>\n",
       "      <th>ST_Slope</th>\n",
       "      <th>HeartDisease</th>\n",
       "    </tr>\n",
       "  </thead>\n",
       "  <tbody>\n",
       "    <tr>\n",
       "      <th>0</th>\n",
       "      <td>40</td>\n",
       "      <td>M</td>\n",
       "      <td>ATA</td>\n",
       "      <td>140</td>\n",
       "      <td>289</td>\n",
       "      <td>0</td>\n",
       "      <td>Normal</td>\n",
       "      <td>172</td>\n",
       "      <td>N</td>\n",
       "      <td>0.0</td>\n",
       "      <td>Up</td>\n",
       "      <td>0</td>\n",
       "    </tr>\n",
       "    <tr>\n",
       "      <th>1</th>\n",
       "      <td>49</td>\n",
       "      <td>F</td>\n",
       "      <td>NAP</td>\n",
       "      <td>160</td>\n",
       "      <td>180</td>\n",
       "      <td>0</td>\n",
       "      <td>Normal</td>\n",
       "      <td>156</td>\n",
       "      <td>N</td>\n",
       "      <td>1.0</td>\n",
       "      <td>Flat</td>\n",
       "      <td>1</td>\n",
       "    </tr>\n",
       "    <tr>\n",
       "      <th>2</th>\n",
       "      <td>37</td>\n",
       "      <td>M</td>\n",
       "      <td>ATA</td>\n",
       "      <td>130</td>\n",
       "      <td>283</td>\n",
       "      <td>0</td>\n",
       "      <td>ST</td>\n",
       "      <td>98</td>\n",
       "      <td>N</td>\n",
       "      <td>0.0</td>\n",
       "      <td>Up</td>\n",
       "      <td>0</td>\n",
       "    </tr>\n",
       "    <tr>\n",
       "      <th>3</th>\n",
       "      <td>48</td>\n",
       "      <td>F</td>\n",
       "      <td>ASY</td>\n",
       "      <td>138</td>\n",
       "      <td>214</td>\n",
       "      <td>0</td>\n",
       "      <td>Normal</td>\n",
       "      <td>108</td>\n",
       "      <td>Y</td>\n",
       "      <td>1.5</td>\n",
       "      <td>Flat</td>\n",
       "      <td>1</td>\n",
       "    </tr>\n",
       "    <tr>\n",
       "      <th>4</th>\n",
       "      <td>54</td>\n",
       "      <td>M</td>\n",
       "      <td>NAP</td>\n",
       "      <td>150</td>\n",
       "      <td>195</td>\n",
       "      <td>0</td>\n",
       "      <td>Normal</td>\n",
       "      <td>122</td>\n",
       "      <td>N</td>\n",
       "      <td>0.0</td>\n",
       "      <td>Up</td>\n",
       "      <td>0</td>\n",
       "    </tr>\n",
       "  </tbody>\n",
       "</table>\n",
       "</div>\n",
       "      <button class=\"colab-df-convert\" onclick=\"convertToInteractive('df-642bf29d-86e8-4563-90cb-11f655329876')\"\n",
       "              title=\"Convert this dataframe to an interactive table.\"\n",
       "              style=\"display:none;\">\n",
       "        \n",
       "  <svg xmlns=\"http://www.w3.org/2000/svg\" height=\"24px\"viewBox=\"0 0 24 24\"\n",
       "       width=\"24px\">\n",
       "    <path d=\"M0 0h24v24H0V0z\" fill=\"none\"/>\n",
       "    <path d=\"M18.56 5.44l.94 2.06.94-2.06 2.06-.94-2.06-.94-.94-2.06-.94 2.06-2.06.94zm-11 1L8.5 8.5l.94-2.06 2.06-.94-2.06-.94L8.5 2.5l-.94 2.06-2.06.94zm10 10l.94 2.06.94-2.06 2.06-.94-2.06-.94-.94-2.06-.94 2.06-2.06.94z\"/><path d=\"M17.41 7.96l-1.37-1.37c-.4-.4-.92-.59-1.43-.59-.52 0-1.04.2-1.43.59L10.3 9.45l-7.72 7.72c-.78.78-.78 2.05 0 2.83L4 21.41c.39.39.9.59 1.41.59.51 0 1.02-.2 1.41-.59l7.78-7.78 2.81-2.81c.8-.78.8-2.07 0-2.86zM5.41 20L4 18.59l7.72-7.72 1.47 1.35L5.41 20z\"/>\n",
       "  </svg>\n",
       "      </button>\n",
       "      \n",
       "  <style>\n",
       "    .colab-df-container {\n",
       "      display:flex;\n",
       "      flex-wrap:wrap;\n",
       "      gap: 12px;\n",
       "    }\n",
       "\n",
       "    .colab-df-convert {\n",
       "      background-color: #E8F0FE;\n",
       "      border: none;\n",
       "      border-radius: 50%;\n",
       "      cursor: pointer;\n",
       "      display: none;\n",
       "      fill: #1967D2;\n",
       "      height: 32px;\n",
       "      padding: 0 0 0 0;\n",
       "      width: 32px;\n",
       "    }\n",
       "\n",
       "    .colab-df-convert:hover {\n",
       "      background-color: #E2EBFA;\n",
       "      box-shadow: 0px 1px 2px rgba(60, 64, 67, 0.3), 0px 1px 3px 1px rgba(60, 64, 67, 0.15);\n",
       "      fill: #174EA6;\n",
       "    }\n",
       "\n",
       "    [theme=dark] .colab-df-convert {\n",
       "      background-color: #3B4455;\n",
       "      fill: #D2E3FC;\n",
       "    }\n",
       "\n",
       "    [theme=dark] .colab-df-convert:hover {\n",
       "      background-color: #434B5C;\n",
       "      box-shadow: 0px 1px 3px 1px rgba(0, 0, 0, 0.15);\n",
       "      filter: drop-shadow(0px 1px 2px rgba(0, 0, 0, 0.3));\n",
       "      fill: #FFFFFF;\n",
       "    }\n",
       "  </style>\n",
       "\n",
       "      <script>\n",
       "        const buttonEl =\n",
       "          document.querySelector('#df-642bf29d-86e8-4563-90cb-11f655329876 button.colab-df-convert');\n",
       "        buttonEl.style.display =\n",
       "          google.colab.kernel.accessAllowed ? 'block' : 'none';\n",
       "\n",
       "        async function convertToInteractive(key) {\n",
       "          const element = document.querySelector('#df-642bf29d-86e8-4563-90cb-11f655329876');\n",
       "          const dataTable =\n",
       "            await google.colab.kernel.invokeFunction('convertToInteractive',\n",
       "                                                     [key], {});\n",
       "          if (!dataTable) return;\n",
       "\n",
       "          const docLinkHtml = 'Like what you see? Visit the ' +\n",
       "            '<a target=\"_blank\" href=https://colab.research.google.com/notebooks/data_table.ipynb>data table notebook</a>'\n",
       "            + ' to learn more about interactive tables.';\n",
       "          element.innerHTML = '';\n",
       "          dataTable['output_type'] = 'display_data';\n",
       "          await google.colab.output.renderOutput(dataTable, element);\n",
       "          const docLink = document.createElement('div');\n",
       "          docLink.innerHTML = docLinkHtml;\n",
       "          element.appendChild(docLink);\n",
       "        }\n",
       "      </script>\n",
       "    </div>\n",
       "  </div>\n",
       "  "
      ],
      "text/plain": [
       "   Age Sex ChestPainType  RestingBP  Cholesterol  FastingBS RestingECG  MaxHR  \\\n",
       "0   40   M           ATA        140          289          0     Normal    172   \n",
       "1   49   F           NAP        160          180          0     Normal    156   \n",
       "2   37   M           ATA        130          283          0         ST     98   \n",
       "3   48   F           ASY        138          214          0     Normal    108   \n",
       "4   54   M           NAP        150          195          0     Normal    122   \n",
       "\n",
       "  ExerciseAngina  Oldpeak ST_Slope  HeartDisease  \n",
       "0              N      0.0       Up             0  \n",
       "1              N      1.0     Flat             1  \n",
       "2              N      0.0       Up             0  \n",
       "3              Y      1.5     Flat             1  \n",
       "4              N      0.0       Up             0  "
      ]
     },
     "execution_count": 63,
     "metadata": {},
     "output_type": "execute_result"
    }
   ],
   "source": [
    "df.head()"
   ]
  },
  {
   "cell_type": "code",
   "execution_count": null,
   "metadata": {
    "colab": {
     "base_uri": "https://localhost:8080/"
    },
    "id": "QdiliFV5wbSM",
    "outputId": "5ea8cd02-8fd1-4152-cbed-447734a9d94a"
   },
   "outputs": [
    {
     "name": "stdout",
     "output_type": "stream",
     "text": [
      "<class 'pandas.core.frame.DataFrame'>\n",
      "RangeIndex: 918 entries, 0 to 917\n",
      "Data columns (total 12 columns):\n",
      " #   Column          Non-Null Count  Dtype  \n",
      "---  ------          --------------  -----  \n",
      " 0   Age             918 non-null    int64  \n",
      " 1   Sex             918 non-null    object \n",
      " 2   ChestPainType   918 non-null    object \n",
      " 3   RestingBP       918 non-null    int64  \n",
      " 4   Cholesterol     918 non-null    int64  \n",
      " 5   FastingBS       918 non-null    int64  \n",
      " 6   RestingECG      918 non-null    object \n",
      " 7   MaxHR           918 non-null    int64  \n",
      " 8   ExerciseAngina  918 non-null    object \n",
      " 9   Oldpeak         918 non-null    float64\n",
      " 10  ST_Slope        918 non-null    object \n",
      " 11  HeartDisease    918 non-null    int64  \n",
      "dtypes: float64(1), int64(6), object(5)\n",
      "memory usage: 86.2+ KB\n"
     ]
    }
   ],
   "source": [
    " df.info()"
   ]
  },
  {
   "cell_type": "markdown",
   "metadata": {
    "id": "hba6-2pVcpUF"
   },
   "source": [
    "- The data consisst of three different data type; integer, object and float data type \n",
    "\n",
    "- The data consist of Categorial features (Sex, ChestPainType, RestingECG, ExercideAngibe an ST_Slope)  and Numerical features (Age, RestingBP, Cholesterol, Fasting BS, MaxHR, Oldpeak and HeartDisease)\n"
   ]
  },
  {
   "cell_type": "code",
   "execution_count": null,
   "metadata": {
    "colab": {
     "base_uri": "https://localhost:8080/"
    },
    "id": "h6FI6p67olMj",
    "outputId": "86b21aae-64d9-477d-8d7b-9fe9bc826df1"
   },
   "outputs": [
    {
     "data": {
      "text/plain": [
       "count    918.000000\n",
       "mean     198.799564\n",
       "std      109.384145\n",
       "min        0.000000\n",
       "25%      173.250000\n",
       "50%      223.000000\n",
       "75%      267.000000\n",
       "max      603.000000\n",
       "Name: Cholesterol, dtype: float64"
      ]
     },
     "execution_count": 16,
     "metadata": {},
     "output_type": "execute_result"
    }
   ],
   "source": [
    "df.Cholesterol.describe()"
   ]
  },
  {
   "cell_type": "markdown",
   "metadata": {
    "id": "Iwmpv8H8lK5E"
   },
   "source": [
    "<a id=\"EDA\"></a>\n",
    "## 4. **Exploratory Data Analysis**"
   ]
  },
  {
   "cell_type": "markdown",
   "metadata": {
    "id": "KBtcLovNX3Wi"
   },
   "source": [
    "The EDA data analysis is used to get a better understanding of data and look for the data. For statisticians, it is similar to a kind of storytelling. It allows for the discovery of trends and observations within data using visual methods. Aside from that, EDA is frequently used as the first step in the data modeling process. It will explore the dataset as well as perform the exploratory data analysis. "
   ]
  },
  {
   "cell_type": "markdown",
   "metadata": {
    "id": "LYfBdvfwcbhI"
   },
   "source": [
    "**1. Distribution of the Heart Disease**"
   ]
  },
  {
   "cell_type": "code",
   "execution_count": null,
   "metadata": {
    "colab": {
     "base_uri": "https://localhost:8080/",
     "height": 357
    },
    "id": "rYFXSyZvl_8n",
    "outputId": "c9d36210-29ba-4a37-847d-09582bf40fd5"
   },
   "outputs": [
    {
     "data": {
      "image/png": "[encoded data removed]",
      "text/plain": [
       "<Figure size 648x432 with 1 Axes>"
      ]
     },
     "metadata": {},
     "output_type": "display_data"
    }
   ],
   "source": [
    "df.HeartDisease.value_counts().plot(kind = \"pie\", figsize = (9,6), autopct='%1.2f%%')\n",
    "plt.legend([\"heart disease \", \"Normal\"]);"
   ]
  },
  {
   "cell_type": "markdown",
   "metadata": {
    "id": "BmNHjaPpOqnI"
   },
   "source": [
    "- The distribution of the target variables is quite balanced. "
   ]
  },
  {
   "cell_type": "markdown",
   "metadata": {
    "id": "LHAPWEKIe78j"
   },
   "source": [
    "**2.The Distribution of heart disease in terms of Age and Sex** "
   ]
  },
  {
   "cell_type": "code",
   "execution_count": null,
   "metadata": {
    "colab": {
     "base_uri": "https://localhost:8080/",
     "height": 453
    },
    "id": "JSzcYIz04Bsm",
    "outputId": "cdc7ff94-fbd9-4158-dba8-15c7d6a4e8c7"
   },
   "outputs": [
    {
     "data": {
      "image/png": "[encoded data removed]",
      "text/plain": [
       "<Figure size 2160x720 with 1 Axes>"
      ]
     },
     "metadata": {
      "needs_background": "light"
     },
     "output_type": "display_data"
    }
   ],
   "source": [
    "from matplotlib import rcParams\n",
    "sns.countplot(x = 'Age', data = df[df['Sex'] == 'M'], palette=\"hls\", hue = 'HeartDisease' )\n",
    "rcParams['figure.figsize'] = 30,10\n",
    "plt.title(\"Distribution of Age and Sex (M)\");"
   ]
  },
  {
   "cell_type": "markdown",
   "metadata": {
    "id": "yBM2-trof4Bj"
   },
   "source": [
    "- Individulas who are male are most likely to have Heart disease from their late 40s  . "
   ]
  },
  {
   "cell_type": "markdown",
   "metadata": {
    "id": "4DC-Fy0DPAIT"
   },
   "source": [
    "-"
   ]
  },
  {
   "cell_type": "code",
   "execution_count": null,
   "metadata": {
    "colab": {
     "base_uri": "https://localhost:8080/",
     "height": 641
    },
    "id": "7uBulQwGu4mD",
    "outputId": "0e73aa51-ddc2-43d3-fd58-36d99ef10e89"
   },
   "outputs": [
    {
     "data": {
      "image/png": "[encoded data removed]",
      "text/plain": [
       "<Figure size 2160x720 with 1 Axes>"
      ]
     },
     "metadata": {
      "needs_background": "light"
     },
     "output_type": "display_data"
    }
   ],
   "source": [
    "sns.countplot(x = 'Age', data = df[df['Sex'] == 'F'] , palette=\"hls\", hue = 'HeartDisease')\n",
    "rcParams['figure.figsize'] = 30,10\n",
    "plt.title(\"Distribution of Age and Sex (F)\");"
   ]
  },
  {
   "cell_type": "markdown",
   "metadata": {
    "id": "0tKzlpPXjelz"
   },
   "source": [
    "- Individuals who are females are most likely to have heart disease from their late 50's "
   ]
  },
  {
   "cell_type": "markdown",
   "metadata": {
    "id": "KZ5YRSdwkzkA"
   },
   "source": [
    "**Distribution of heart disease in terms of categorial features**"
   ]
  },
  {
   "cell_type": "code",
   "execution_count": null,
   "metadata": {
    "colab": {
     "base_uri": "https://localhost:8080/",
     "height": 585
    },
    "id": "a8n7WAnn48A0",
    "outputId": "521be577-3cef-44e4-e2da-154940288c9f"
   },
   "outputs": [
    {
     "data": {
      "image/png": "[encoded data removed]",
      "text/plain": [
       "<Figure size 1152x576 with 6 Axes>"
      ]
     },
     "metadata": {
      "needs_background": "light"
     },
     "output_type": "display_data"
    }
   ],
   "source": [
    "fig, ax = plt.subplots(2, 3, figsize=(16, 8))\n",
    "\n",
    "sns.countplot(x = 'Sex', data = df, hue = \"HeartDisease\", palette = \"rocket\", ax = ax[0,0])\n",
    "sns.countplot(x = 'ChestPainType', data = df, hue = \"HeartDisease\", palette = \"rocket\", ax = ax[0,1])\n",
    "sns.countplot(x = 'RestingECG', data = df, hue = \"HeartDisease\",palette = \"rocket\", ax = ax[0,2])\n",
    "\n",
    "sns.countplot(x = 'ExerciseAngina', data = df, hue = \"HeartDisease\", palette = \"rocket\", ax = ax[1,0])\n",
    "sns.countplot(x = 'ST_Slope', data = df, hue = \"HeartDisease\", palette = \"rocket\", ax = ax[1,1])\n",
    "\n",
    "\n",
    "fig.tight_layout()"
   ]
  },
  {
   "cell_type": "markdown",
   "metadata": {
    "id": "WpvLlhCrnxDc"
   },
   "source": [
    "- As seen from the above graphs, male individuals are most likely to have heart disease than females.\n",
    "\n",
    "- People with ASY chest pain are likely to have heart disease while, people with ATA, NAP and TA appear to have a lower chance of heart disease\n",
    "\n",
    "- One can conclude that individuals who are males, have exercise enigma, and flat ST slope are more likely to have heart disease."
   ]
  },
  {
   "cell_type": "markdown",
   "metadata": {
    "id": "uATEgA9ZlToh"
   },
   "source": [
    "<a id=\"features\"></a>\n",
    "## 5. **Feature engineering And Selection**"
   ]
  },
  {
   "cell_type": "markdown",
   "metadata": {
    "id": "JjHcU8susNJ4"
   },
   "source": [
    "Label Encoding refers to converting the labels into a numeric form so as to convert them into the machine-readable form. Machine learning algorithms can then decide in a better way how those labels must be operated. It is an important pre-processing step for the structured dataset in supervised learning."
   ]
  },
  {
   "cell_type": "markdown",
   "metadata": {
    "id": "MsOG0duAAmZU"
   },
   "source": [
    "**Dealing With Zero Cholesterol Values**"
   ]
  },
  {
   "cell_type": "markdown",
   "metadata": {
    "id": "w8QiV_GCAu-Y"
   },
   "source": [
    "There are rows where the Cholesterol is equal to zero. We replace the zero with the mean value of the age group."
   ]
  },
  {
   "cell_type": "code",
   "execution_count": null,
   "metadata": {
    "colab": {
     "base_uri": "https://localhost:8080/",
     "height": 1000
    },
    "id": "9GFeBDpHAlNM",
    "outputId": "7c05279f-e050-4116-baed-f156028990fa"
   },
   "outputs": [
    {
     "data": {
      "text/html": [
       "\n",
       "  <div id=\"df-32c64947-3f97-4848-b208-700a93938dfe\">\n",
       "    <div class=\"colab-df-container\">\n",
       "      <div>\n",
       "<style scoped>\n",
       "    .dataframe tbody tr th:only-of-type {\n",
       "        vertical-align: middle;\n",
       "    }\n",
       "\n",
       "    .dataframe tbody tr th {\n",
       "        vertical-align: top;\n",
       "    }\n",
       "\n",
       "    .dataframe thead th {\n",
       "        text-align: right;\n",
       "    }\n",
       "</style>\n",
       "<table border=\"1\" class=\"dataframe\">\n",
       "  <thead>\n",
       "    <tr style=\"text-align: right;\">\n",
       "      <th></th>\n",
       "      <th>RestingBP</th>\n",
       "      <th>Cholesterol</th>\n",
       "      <th>FastingBS</th>\n",
       "      <th>MaxHR</th>\n",
       "      <th>Oldpeak</th>\n",
       "      <th>HeartDisease</th>\n",
       "    </tr>\n",
       "    <tr>\n",
       "      <th>Age</th>\n",
       "      <th></th>\n",
       "      <th></th>\n",
       "      <th></th>\n",
       "      <th></th>\n",
       "      <th></th>\n",
       "      <th></th>\n",
       "    </tr>\n",
       "  </thead>\n",
       "  <tbody>\n",
       "    <tr>\n",
       "      <th>28</th>\n",
       "      <td>130.000000</td>\n",
       "      <td>132.000000</td>\n",
       "      <td>0.000000</td>\n",
       "      <td>185.000000</td>\n",
       "      <td>0.000000</td>\n",
       "      <td>0.000000</td>\n",
       "    </tr>\n",
       "    <tr>\n",
       "      <th>29</th>\n",
       "      <td>130.000000</td>\n",
       "      <td>236.666667</td>\n",
       "      <td>0.000000</td>\n",
       "      <td>177.333333</td>\n",
       "      <td>0.000000</td>\n",
       "      <td>0.000000</td>\n",
       "    </tr>\n",
       "    <tr>\n",
       "      <th>30</th>\n",
       "      <td>170.000000</td>\n",
       "      <td>237.000000</td>\n",
       "      <td>0.000000</td>\n",
       "      <td>170.000000</td>\n",
       "      <td>0.000000</td>\n",
       "      <td>0.000000</td>\n",
       "    </tr>\n",
       "    <tr>\n",
       "      <th>31</th>\n",
       "      <td>110.000000</td>\n",
       "      <td>244.500000</td>\n",
       "      <td>0.000000</td>\n",
       "      <td>151.500000</td>\n",
       "      <td>0.750000</td>\n",
       "      <td>0.500000</td>\n",
       "    </tr>\n",
       "    <tr>\n",
       "      <th>32</th>\n",
       "      <td>110.600000</td>\n",
       "      <td>241.200000</td>\n",
       "      <td>0.200000</td>\n",
       "      <td>152.200000</td>\n",
       "      <td>0.140000</td>\n",
       "      <td>0.400000</td>\n",
       "    </tr>\n",
       "    <tr>\n",
       "      <th>33</th>\n",
       "      <td>110.000000</td>\n",
       "      <td>272.000000</td>\n",
       "      <td>0.000000</td>\n",
       "      <td>167.500000</td>\n",
       "      <td>0.500000</td>\n",
       "      <td>0.500000</td>\n",
       "    </tr>\n",
       "    <tr>\n",
       "      <th>34</th>\n",
       "      <td>124.142857</td>\n",
       "      <td>163.285714</td>\n",
       "      <td>0.142857</td>\n",
       "      <td>172.571429</td>\n",
       "      <td>0.128571</td>\n",
       "      <td>0.285714</td>\n",
       "    </tr>\n",
       "    <tr>\n",
       "      <th>35</th>\n",
       "      <td>126.272727</td>\n",
       "      <td>197.454545</td>\n",
       "      <td>0.090909</td>\n",
       "      <td>158.909091</td>\n",
       "      <td>0.372727</td>\n",
       "      <td>0.363636</td>\n",
       "    </tr>\n",
       "    <tr>\n",
       "      <th>36</th>\n",
       "      <td>123.666667</td>\n",
       "      <td>190.333333</td>\n",
       "      <td>0.166667</td>\n",
       "      <td>166.500000</td>\n",
       "      <td>0.833333</td>\n",
       "      <td>0.333333</td>\n",
       "    </tr>\n",
       "    <tr>\n",
       "      <th>37</th>\n",
       "      <td>127.090909</td>\n",
       "      <td>233.727273</td>\n",
       "      <td>0.000000</td>\n",
       "      <td>152.909091</td>\n",
       "      <td>0.545455</td>\n",
       "      <td>0.090909</td>\n",
       "    </tr>\n",
       "    <tr>\n",
       "      <th>38</th>\n",
       "      <td>120.000000</td>\n",
       "      <td>146.500000</td>\n",
       "      <td>0.187500</td>\n",
       "      <td>149.250000</td>\n",
       "      <td>0.700000</td>\n",
       "      <td>0.687500</td>\n",
       "    </tr>\n",
       "    <tr>\n",
       "      <th>39</th>\n",
       "      <td>127.333333</td>\n",
       "      <td>239.200000</td>\n",
       "      <td>0.066667</td>\n",
       "      <td>150.800000</td>\n",
       "      <td>0.280000</td>\n",
       "      <td>0.133333</td>\n",
       "    </tr>\n",
       "    <tr>\n",
       "      <th>40</th>\n",
       "      <td>128.307692</td>\n",
       "      <td>229.384615</td>\n",
       "      <td>0.230769</td>\n",
       "      <td>150.692308</td>\n",
       "      <td>0.492308</td>\n",
       "      <td>0.461538</td>\n",
       "    </tr>\n",
       "    <tr>\n",
       "      <th>41</th>\n",
       "      <td>120.458333</td>\n",
       "      <td>216.500000</td>\n",
       "      <td>0.083333</td>\n",
       "      <td>154.416667</td>\n",
       "      <td>0.520833</td>\n",
       "      <td>0.250000</td>\n",
       "    </tr>\n",
       "    <tr>\n",
       "      <th>42</th>\n",
       "      <td>129.166667</td>\n",
       "      <td>212.222222</td>\n",
       "      <td>0.111111</td>\n",
       "      <td>150.833333</td>\n",
       "      <td>0.222222</td>\n",
       "      <td>0.166667</td>\n",
       "    </tr>\n",
       "    <tr>\n",
       "      <th>43</th>\n",
       "      <td>126.666667</td>\n",
       "      <td>202.333333</td>\n",
       "      <td>0.125000</td>\n",
       "      <td>147.875000</td>\n",
       "      <td>0.829167</td>\n",
       "      <td>0.458333</td>\n",
       "    </tr>\n",
       "    <tr>\n",
       "      <th>44</th>\n",
       "      <td>125.947368</td>\n",
       "      <td>249.578947</td>\n",
       "      <td>0.000000</td>\n",
       "      <td>154.263158</td>\n",
       "      <td>0.531579</td>\n",
       "      <td>0.315789</td>\n",
       "    </tr>\n",
       "    <tr>\n",
       "      <th>45</th>\n",
       "      <td>129.222222</td>\n",
       "      <td>229.333333</td>\n",
       "      <td>0.055556</td>\n",
       "      <td>148.277778</td>\n",
       "      <td>0.333333</td>\n",
       "      <td>0.166667</td>\n",
       "    </tr>\n",
       "    <tr>\n",
       "      <th>46</th>\n",
       "      <td>126.375000</td>\n",
       "      <td>217.166667</td>\n",
       "      <td>0.125000</td>\n",
       "      <td>136.250000</td>\n",
       "      <td>0.520833</td>\n",
       "      <td>0.541667</td>\n",
       "    </tr>\n",
       "    <tr>\n",
       "      <th>47</th>\n",
       "      <td>132.526316</td>\n",
       "      <td>193.421053</td>\n",
       "      <td>0.210526</td>\n",
       "      <td>139.842105</td>\n",
       "      <td>0.773684</td>\n",
       "      <td>0.578947</td>\n",
       "    </tr>\n",
       "    <tr>\n",
       "      <th>48</th>\n",
       "      <td>128.000000</td>\n",
       "      <td>228.193548</td>\n",
       "      <td>0.258065</td>\n",
       "      <td>136.161290</td>\n",
       "      <td>0.729032</td>\n",
       "      <td>0.483871</td>\n",
       "    </tr>\n",
       "    <tr>\n",
       "      <th>49</th>\n",
       "      <td>129.047619</td>\n",
       "      <td>213.476190</td>\n",
       "      <td>0.000000</td>\n",
       "      <td>146.619048</td>\n",
       "      <td>0.661905</td>\n",
       "      <td>0.523810</td>\n",
       "    </tr>\n",
       "    <tr>\n",
       "      <th>50</th>\n",
       "      <td>135.000000</td>\n",
       "      <td>199.200000</td>\n",
       "      <td>0.080000</td>\n",
       "      <td>139.360000</td>\n",
       "      <td>0.824000</td>\n",
       "      <td>0.560000</td>\n",
       "    </tr>\n",
       "    <tr>\n",
       "      <th>51</th>\n",
       "      <td>127.742857</td>\n",
       "      <td>175.885714</td>\n",
       "      <td>0.342857</td>\n",
       "      <td>135.742857</td>\n",
       "      <td>0.825714</td>\n",
       "      <td>0.428571</td>\n",
       "    </tr>\n",
       "    <tr>\n",
       "      <th>52</th>\n",
       "      <td>133.638889</td>\n",
       "      <td>200.277778</td>\n",
       "      <td>0.250000</td>\n",
       "      <td>141.944444</td>\n",
       "      <td>0.866667</td>\n",
       "      <td>0.527778</td>\n",
       "    </tr>\n",
       "    <tr>\n",
       "      <th>53</th>\n",
       "      <td>131.090909</td>\n",
       "      <td>181.030303</td>\n",
       "      <td>0.272727</td>\n",
       "      <td>131.575758</td>\n",
       "      <td>0.718182</td>\n",
       "      <td>0.454545</td>\n",
       "    </tr>\n",
       "    <tr>\n",
       "      <th>54</th>\n",
       "      <td>133.568627</td>\n",
       "      <td>231.980392</td>\n",
       "      <td>0.156863</td>\n",
       "      <td>137.294118</td>\n",
       "      <td>0.845098</td>\n",
       "      <td>0.450980</td>\n",
       "    </tr>\n",
       "    <tr>\n",
       "      <th>55</th>\n",
       "      <td>131.317073</td>\n",
       "      <td>218.463415</td>\n",
       "      <td>0.195122</td>\n",
       "      <td>133.390244</td>\n",
       "      <td>1.034146</td>\n",
       "      <td>0.585366</td>\n",
       "    </tr>\n",
       "    <tr>\n",
       "      <th>56</th>\n",
       "      <td>133.894737</td>\n",
       "      <td>174.789474</td>\n",
       "      <td>0.368421</td>\n",
       "      <td>128.894737</td>\n",
       "      <td>0.978947</td>\n",
       "      <td>0.657895</td>\n",
       "    </tr>\n",
       "    <tr>\n",
       "      <th>57</th>\n",
       "      <td>136.368421</td>\n",
       "      <td>202.315789</td>\n",
       "      <td>0.342105</td>\n",
       "      <td>133.631579</td>\n",
       "      <td>1.002632</td>\n",
       "      <td>0.684211</td>\n",
       "    </tr>\n",
       "    <tr>\n",
       "      <th>58</th>\n",
       "      <td>132.000000</td>\n",
       "      <td>217.285714</td>\n",
       "      <td>0.285714</td>\n",
       "      <td>130.380952</td>\n",
       "      <td>1.007143</td>\n",
       "      <td>0.666667</td>\n",
       "    </tr>\n",
       "    <tr>\n",
       "      <th>59</th>\n",
       "      <td>141.085714</td>\n",
       "      <td>175.714286</td>\n",
       "      <td>0.257143</td>\n",
       "      <td>134.600000</td>\n",
       "      <td>0.982857</td>\n",
       "      <td>0.657143</td>\n",
       "    </tr>\n",
       "    <tr>\n",
       "      <th>60</th>\n",
       "      <td>135.468750</td>\n",
       "      <td>167.656250</td>\n",
       "      <td>0.343750</td>\n",
       "      <td>135.250000</td>\n",
       "      <td>1.218750</td>\n",
       "      <td>0.750000</td>\n",
       "    </tr>\n",
       "    <tr>\n",
       "      <th>61</th>\n",
       "      <td>137.483871</td>\n",
       "      <td>162.580645</td>\n",
       "      <td>0.354839</td>\n",
       "      <td>121.000000</td>\n",
       "      <td>1.303226</td>\n",
       "      <td>0.838710</td>\n",
       "    </tr>\n",
       "    <tr>\n",
       "      <th>62</th>\n",
       "      <td>134.885714</td>\n",
       "      <td>166.742857</td>\n",
       "      <td>0.314286</td>\n",
       "      <td>121.028571</td>\n",
       "      <td>1.214286</td>\n",
       "      <td>0.714286</td>\n",
       "    </tr>\n",
       "    <tr>\n",
       "      <th>63</th>\n",
       "      <td>136.833333</td>\n",
       "      <td>157.600000</td>\n",
       "      <td>0.300000</td>\n",
       "      <td>128.933333</td>\n",
       "      <td>1.420000</td>\n",
       "      <td>0.766667</td>\n",
       "    </tr>\n",
       "    <tr>\n",
       "      <th>64</th>\n",
       "      <td>137.590909</td>\n",
       "      <td>205.318182</td>\n",
       "      <td>0.272727</td>\n",
       "      <td>128.318182</td>\n",
       "      <td>1.204545</td>\n",
       "      <td>0.681818</td>\n",
       "    </tr>\n",
       "    <tr>\n",
       "      <th>65</th>\n",
       "      <td>141.761905</td>\n",
       "      <td>207.571429</td>\n",
       "      <td>0.333333</td>\n",
       "      <td>125.904762</td>\n",
       "      <td>1.171429</td>\n",
       "      <td>0.714286</td>\n",
       "    </tr>\n",
       "    <tr>\n",
       "      <th>66</th>\n",
       "      <td>139.461538</td>\n",
       "      <td>179.461538</td>\n",
       "      <td>0.230769</td>\n",
       "      <td>124.846154</td>\n",
       "      <td>0.900000</td>\n",
       "      <td>0.538462</td>\n",
       "    </tr>\n",
       "    <tr>\n",
       "      <th>67</th>\n",
       "      <td>133.533333</td>\n",
       "      <td>254.866667</td>\n",
       "      <td>0.266667</td>\n",
       "      <td>132.133333</td>\n",
       "      <td>1.120000</td>\n",
       "      <td>0.800000</td>\n",
       "    </tr>\n",
       "    <tr>\n",
       "      <th>68</th>\n",
       "      <td>140.300000</td>\n",
       "      <td>158.500000</td>\n",
       "      <td>0.600000</td>\n",
       "      <td>136.100000</td>\n",
       "      <td>1.250000</td>\n",
       "      <td>0.600000</td>\n",
       "    </tr>\n",
       "    <tr>\n",
       "      <th>69</th>\n",
       "      <td>139.461538</td>\n",
       "      <td>156.230769</td>\n",
       "      <td>0.538462</td>\n",
       "      <td>122.307692</td>\n",
       "      <td>1.238462</td>\n",
       "      <td>0.769231</td>\n",
       "    </tr>\n",
       "    <tr>\n",
       "      <th>70</th>\n",
       "      <td>145.142857</td>\n",
       "      <td>171.714286</td>\n",
       "      <td>0.142857</td>\n",
       "      <td>123.857143</td>\n",
       "      <td>1.842857</td>\n",
       "      <td>0.857143</td>\n",
       "    </tr>\n",
       "    <tr>\n",
       "      <th>71</th>\n",
       "      <td>131.200000</td>\n",
       "      <td>231.600000</td>\n",
       "      <td>0.200000</td>\n",
       "      <td>128.000000</td>\n",
       "      <td>0.760000</td>\n",
       "      <td>0.400000</td>\n",
       "    </tr>\n",
       "    <tr>\n",
       "      <th>72</th>\n",
       "      <td>145.750000</td>\n",
       "      <td>137.000000</td>\n",
       "      <td>0.250000</td>\n",
       "      <td>113.750000</td>\n",
       "      <td>1.375000</td>\n",
       "      <td>0.750000</td>\n",
       "    </tr>\n",
       "    <tr>\n",
       "      <th>73</th>\n",
       "      <td>160.000000</td>\n",
       "      <td>0.000000</td>\n",
       "      <td>0.000000</td>\n",
       "      <td>121.000000</td>\n",
       "      <td>0.000000</td>\n",
       "      <td>1.000000</td>\n",
       "    </tr>\n",
       "    <tr>\n",
       "      <th>74</th>\n",
       "      <td>141.857143</td>\n",
       "      <td>184.285714</td>\n",
       "      <td>0.571429</td>\n",
       "      <td>116.000000</td>\n",
       "      <td>1.285714</td>\n",
       "      <td>0.714286</td>\n",
       "    </tr>\n",
       "    <tr>\n",
       "      <th>75</th>\n",
       "      <td>155.333333</td>\n",
       "      <td>246.000000</td>\n",
       "      <td>0.666667</td>\n",
       "      <td>110.666667</td>\n",
       "      <td>1.666667</td>\n",
       "      <td>0.666667</td>\n",
       "    </tr>\n",
       "    <tr>\n",
       "      <th>76</th>\n",
       "      <td>122.000000</td>\n",
       "      <td>155.000000</td>\n",
       "      <td>0.000000</td>\n",
       "      <td>118.000000</td>\n",
       "      <td>2.300000</td>\n",
       "      <td>0.500000</td>\n",
       "    </tr>\n",
       "    <tr>\n",
       "      <th>77</th>\n",
       "      <td>124.500000</td>\n",
       "      <td>237.500000</td>\n",
       "      <td>0.000000</td>\n",
       "      <td>136.000000</td>\n",
       "      <td>1.000000</td>\n",
       "      <td>1.000000</td>\n",
       "    </tr>\n",
       "  </tbody>\n",
       "</table>\n",
       "</div>\n",
       "      <button class=\"colab-df-convert\" onclick=\"convertToInteractive('df-32c64947-3f97-4848-b208-700a93938dfe')\"\n",
       "              title=\"Convert this dataframe to an interactive table.\"\n",
       "              style=\"display:none;\">\n",
       "        \n",
       "  <svg xmlns=\"http://www.w3.org/2000/svg\" height=\"24px\"viewBox=\"0 0 24 24\"\n",
       "       width=\"24px\">\n",
       "    <path d=\"M0 0h24v24H0V0z\" fill=\"none\"/>\n",
       "    <path d=\"M18.56 5.44l.94 2.06.94-2.06 2.06-.94-2.06-.94-.94-2.06-.94 2.06-2.06.94zm-11 1L8.5 8.5l.94-2.06 2.06-.94-2.06-.94L8.5 2.5l-.94 2.06-2.06.94zm10 10l.94 2.06.94-2.06 2.06-.94-2.06-.94-.94-2.06-.94 2.06-2.06.94z\"/><path d=\"M17.41 7.96l-1.37-1.37c-.4-.4-.92-.59-1.43-.59-.52 0-1.04.2-1.43.59L10.3 9.45l-7.72 7.72c-.78.78-.78 2.05 0 2.83L4 21.41c.39.39.9.59 1.41.59.51 0 1.02-.2 1.41-.59l7.78-7.78 2.81-2.81c.8-.78.8-2.07 0-2.86zM5.41 20L4 18.59l7.72-7.72 1.47 1.35L5.41 20z\"/>\n",
       "  </svg>\n",
       "      </button>\n",
       "      \n",
       "  <style>\n",
       "    .colab-df-container {\n",
       "      display:flex;\n",
       "      flex-wrap:wrap;\n",
       "      gap: 12px;\n",
       "    }\n",
       "\n",
       "    .colab-df-convert {\n",
       "      background-color: #E8F0FE;\n",
       "      border: none;\n",
       "      border-radius: 50%;\n",
       "      cursor: pointer;\n",
       "      display: none;\n",
       "      fill: #1967D2;\n",
       "      height: 32px;\n",
       "      padding: 0 0 0 0;\n",
       "      width: 32px;\n",
       "    }\n",
       "\n",
       "    .colab-df-convert:hover {\n",
       "      background-color: #E2EBFA;\n",
       "      box-shadow: 0px 1px 2px rgba(60, 64, 67, 0.3), 0px 1px 3px 1px rgba(60, 64, 67, 0.15);\n",
       "      fill: #174EA6;\n",
       "    }\n",
       "\n",
       "    [theme=dark] .colab-df-convert {\n",
       "      background-color: #3B4455;\n",
       "      fill: #D2E3FC;\n",
       "    }\n",
       "\n",
       "    [theme=dark] .colab-df-convert:hover {\n",
       "      background-color: #434B5C;\n",
       "      box-shadow: 0px 1px 3px 1px rgba(0, 0, 0, 0.15);\n",
       "      filter: drop-shadow(0px 1px 2px rgba(0, 0, 0, 0.3));\n",
       "      fill: #FFFFFF;\n",
       "    }\n",
       "  </style>\n",
       "\n",
       "      <script>\n",
       "        const buttonEl =\n",
       "          document.querySelector('#df-32c64947-3f97-4848-b208-700a93938dfe button.colab-df-convert');\n",
       "        buttonEl.style.display =\n",
       "          google.colab.kernel.accessAllowed ? 'block' : 'none';\n",
       "\n",
       "        async function convertToInteractive(key) {\n",
       "          const element = document.querySelector('#df-32c64947-3f97-4848-b208-700a93938dfe');\n",
       "          const dataTable =\n",
       "            await google.colab.kernel.invokeFunction('convertToInteractive',\n",
       "                                                     [key], {});\n",
       "          if (!dataTable) return;\n",
       "\n",
       "          const docLinkHtml = 'Like what you see? Visit the ' +\n",
       "            '<a target=\"_blank\" href=https://colab.research.google.com/notebooks/data_table.ipynb>data table notebook</a>'\n",
       "            + ' to learn more about interactive tables.';\n",
       "          element.innerHTML = '';\n",
       "          dataTable['output_type'] = 'display_data';\n",
       "          await google.colab.output.renderOutput(dataTable, element);\n",
       "          const docLink = document.createElement('div');\n",
       "          docLink.innerHTML = docLinkHtml;\n",
       "          element.appendChild(docLink);\n",
       "        }\n",
       "      </script>\n",
       "    </div>\n",
       "  </div>\n",
       "  "
      ],
      "text/plain": [
       "      RestingBP  Cholesterol  FastingBS       MaxHR   Oldpeak  HeartDisease\n",
       "Age                                                                        \n",
       "28   130.000000   132.000000   0.000000  185.000000  0.000000      0.000000\n",
       "29   130.000000   236.666667   0.000000  177.333333  0.000000      0.000000\n",
       "30   170.000000   237.000000   0.000000  170.000000  0.000000      0.000000\n",
       "31   110.000000   244.500000   0.000000  151.500000  0.750000      0.500000\n",
       "32   110.600000   241.200000   0.200000  152.200000  0.140000      0.400000\n",
       "33   110.000000   272.000000   0.000000  167.500000  0.500000      0.500000\n",
       "34   124.142857   163.285714   0.142857  172.571429  0.128571      0.285714\n",
       "35   126.272727   197.454545   0.090909  158.909091  0.372727      0.363636\n",
       "36   123.666667   190.333333   0.166667  166.500000  0.833333      0.333333\n",
       "37   127.090909   233.727273   0.000000  152.909091  0.545455      0.090909\n",
       "38   120.000000   146.500000   0.187500  149.250000  0.700000      0.687500\n",
       "39   127.333333   239.200000   0.066667  150.800000  0.280000      0.133333\n",
       "40   128.307692   229.384615   0.230769  150.692308  0.492308      0.461538\n",
       "41   120.458333   216.500000   0.083333  154.416667  0.520833      0.250000\n",
       "42   129.166667   212.222222   0.111111  150.833333  0.222222      0.166667\n",
       "43   126.666667   202.333333   0.125000  147.875000  0.829167      0.458333\n",
       "44   125.947368   249.578947   0.000000  154.263158  0.531579      0.315789\n",
       "45   129.222222   229.333333   0.055556  148.277778  0.333333      0.166667\n",
       "46   126.375000   217.166667   0.125000  136.250000  0.520833      0.541667\n",
       "47   132.526316   193.421053   0.210526  139.842105  0.773684      0.578947\n",
       "48   128.000000   228.193548   0.258065  136.161290  0.729032      0.483871\n",
       "49   129.047619   213.476190   0.000000  146.619048  0.661905      0.523810\n",
       "50   135.000000   199.200000   0.080000  139.360000  0.824000      0.560000\n",
       "51   127.742857   175.885714   0.342857  135.742857  0.825714      0.428571\n",
       "52   133.638889   200.277778   0.250000  141.944444  0.866667      0.527778\n",
       "53   131.090909   181.030303   0.272727  131.575758  0.718182      0.454545\n",
       "54   133.568627   231.980392   0.156863  137.294118  0.845098      0.450980\n",
       "55   131.317073   218.463415   0.195122  133.390244  1.034146      0.585366\n",
       "56   133.894737   174.789474   0.368421  128.894737  0.978947      0.657895\n",
       "57   136.368421   202.315789   0.342105  133.631579  1.002632      0.684211\n",
       "58   132.000000   217.285714   0.285714  130.380952  1.007143      0.666667\n",
       "59   141.085714   175.714286   0.257143  134.600000  0.982857      0.657143\n",
       "60   135.468750   167.656250   0.343750  135.250000  1.218750      0.750000\n",
       "61   137.483871   162.580645   0.354839  121.000000  1.303226      0.838710\n",
       "62   134.885714   166.742857   0.314286  121.028571  1.214286      0.714286\n",
       "63   136.833333   157.600000   0.300000  128.933333  1.420000      0.766667\n",
       "64   137.590909   205.318182   0.272727  128.318182  1.204545      0.681818\n",
       "65   141.761905   207.571429   0.333333  125.904762  1.171429      0.714286\n",
       "66   139.461538   179.461538   0.230769  124.846154  0.900000      0.538462\n",
       "67   133.533333   254.866667   0.266667  132.133333  1.120000      0.800000\n",
       "68   140.300000   158.500000   0.600000  136.100000  1.250000      0.600000\n",
       "69   139.461538   156.230769   0.538462  122.307692  1.238462      0.769231\n",
       "70   145.142857   171.714286   0.142857  123.857143  1.842857      0.857143\n",
       "71   131.200000   231.600000   0.200000  128.000000  0.760000      0.400000\n",
       "72   145.750000   137.000000   0.250000  113.750000  1.375000      0.750000\n",
       "73   160.000000     0.000000   0.000000  121.000000  0.000000      1.000000\n",
       "74   141.857143   184.285714   0.571429  116.000000  1.285714      0.714286\n",
       "75   155.333333   246.000000   0.666667  110.666667  1.666667      0.666667\n",
       "76   122.000000   155.000000   0.000000  118.000000  2.300000      0.500000\n",
       "77   124.500000   237.500000   0.000000  136.000000  1.000000      1.000000"
      ]
     },
     "execution_count": 65,
     "metadata": {},
     "output_type": "execute_result"
    }
   ],
   "source": [
    "df.groupby('Age').mean()"
   ]
  },
  {
   "cell_type": "code",
   "execution_count": null,
   "metadata": {
    "id": "2w51dh9MA-DT"
   },
   "outputs": [],
   "source": [
    "# age mean of the features\n",
    "mean_age_values = df.groupby('Age').mean()\n",
    "df_filled = df.copy()"
   ]
  },
  {
   "cell_type": "code",
   "execution_count": null,
   "metadata": {
    "id": "JDINg1pYBrzK"
   },
   "outputs": [],
   "source": [
    "# looping through the df\n",
    "\n",
    "for i in range(0, len(df_filled)):\n",
    "\n",
    "  if df_filled.loc[i,'Cholesterol'] == float(0):\n",
    "    age = df_filled.loc[i,'Age']\n",
    "    if mean_age_values.loc[age,'Cholesterol'] == float(0):\n",
    "      df_filled.loc[i, 'Cholesterol'] = df_filled.Cholesterol.describe()['mean']\n",
    "    else:\n",
    "      df_filled.loc[i, 'Cholesterol'] = mean_age_values.loc[age,'Cholesterol']\n"
   ]
  },
  {
   "cell_type": "code",
   "execution_count": null,
   "metadata": {
    "colab": {
     "base_uri": "https://localhost:8080/",
     "height": 300
    },
    "id": "Qf9cTeEvGZ9E",
    "outputId": "a0298b4e-a447-4222-a9a6-d5243e94c5ed"
   },
   "outputs": [
    {
     "data": {
      "text/html": [
       "\n",
       "  <div id=\"df-534c5e4b-4c11-4691-99cd-4fed11b57816\">\n",
       "    <div class=\"colab-df-container\">\n",
       "      <div>\n",
       "<style scoped>\n",
       "    .dataframe tbody tr th:only-of-type {\n",
       "        vertical-align: middle;\n",
       "    }\n",
       "\n",
       "    .dataframe tbody tr th {\n",
       "        vertical-align: top;\n",
       "    }\n",
       "\n",
       "    .dataframe thead th {\n",
       "        text-align: right;\n",
       "    }\n",
       "</style>\n",
       "<table border=\"1\" class=\"dataframe\">\n",
       "  <thead>\n",
       "    <tr style=\"text-align: right;\">\n",
       "      <th></th>\n",
       "      <th>Age</th>\n",
       "      <th>RestingBP</th>\n",
       "      <th>Cholesterol</th>\n",
       "      <th>FastingBS</th>\n",
       "      <th>MaxHR</th>\n",
       "      <th>Oldpeak</th>\n",
       "      <th>HeartDisease</th>\n",
       "    </tr>\n",
       "  </thead>\n",
       "  <tbody>\n",
       "    <tr>\n",
       "      <th>count</th>\n",
       "      <td>918.000000</td>\n",
       "      <td>918.000000</td>\n",
       "      <td>918.000000</td>\n",
       "      <td>918.000000</td>\n",
       "      <td>918.000000</td>\n",
       "      <td>918.000000</td>\n",
       "      <td>918.000000</td>\n",
       "    </tr>\n",
       "    <tr>\n",
       "      <th>mean</th>\n",
       "      <td>53.510893</td>\n",
       "      <td>132.396514</td>\n",
       "      <td>233.537623</td>\n",
       "      <td>0.233115</td>\n",
       "      <td>136.809368</td>\n",
       "      <td>0.887364</td>\n",
       "      <td>0.553377</td>\n",
       "    </tr>\n",
       "    <tr>\n",
       "      <th>std</th>\n",
       "      <td>9.432617</td>\n",
       "      <td>18.514154</td>\n",
       "      <td>59.075919</td>\n",
       "      <td>0.423046</td>\n",
       "      <td>25.460334</td>\n",
       "      <td>1.066570</td>\n",
       "      <td>0.497414</td>\n",
       "    </tr>\n",
       "    <tr>\n",
       "      <th>min</th>\n",
       "      <td>28.000000</td>\n",
       "      <td>0.000000</td>\n",
       "      <td>85.000000</td>\n",
       "      <td>0.000000</td>\n",
       "      <td>60.000000</td>\n",
       "      <td>-2.600000</td>\n",
       "      <td>0.000000</td>\n",
       "    </tr>\n",
       "    <tr>\n",
       "      <th>25%</th>\n",
       "      <td>47.000000</td>\n",
       "      <td>120.000000</td>\n",
       "      <td>195.000000</td>\n",
       "      <td>0.000000</td>\n",
       "      <td>120.000000</td>\n",
       "      <td>0.000000</td>\n",
       "      <td>0.000000</td>\n",
       "    </tr>\n",
       "    <tr>\n",
       "      <th>50%</th>\n",
       "      <td>54.000000</td>\n",
       "      <td>130.000000</td>\n",
       "      <td>224.000000</td>\n",
       "      <td>0.000000</td>\n",
       "      <td>138.000000</td>\n",
       "      <td>0.600000</td>\n",
       "      <td>1.000000</td>\n",
       "    </tr>\n",
       "    <tr>\n",
       "      <th>75%</th>\n",
       "      <td>60.000000</td>\n",
       "      <td>140.000000</td>\n",
       "      <td>267.000000</td>\n",
       "      <td>0.000000</td>\n",
       "      <td>156.000000</td>\n",
       "      <td>1.500000</td>\n",
       "      <td>1.000000</td>\n",
       "    </tr>\n",
       "    <tr>\n",
       "      <th>max</th>\n",
       "      <td>77.000000</td>\n",
       "      <td>200.000000</td>\n",
       "      <td>603.000000</td>\n",
       "      <td>1.000000</td>\n",
       "      <td>202.000000</td>\n",
       "      <td>6.200000</td>\n",
       "      <td>1.000000</td>\n",
       "    </tr>\n",
       "  </tbody>\n",
       "</table>\n",
       "</div>\n",
       "      <button class=\"colab-df-convert\" onclick=\"convertToInteractive('df-534c5e4b-4c11-4691-99cd-4fed11b57816')\"\n",
       "              title=\"Convert this dataframe to an interactive table.\"\n",
       "              style=\"display:none;\">\n",
       "        \n",
       "  <svg xmlns=\"http://www.w3.org/2000/svg\" height=\"24px\"viewBox=\"0 0 24 24\"\n",
       "       width=\"24px\">\n",
       "    <path d=\"M0 0h24v24H0V0z\" fill=\"none\"/>\n",
       "    <path d=\"M18.56 5.44l.94 2.06.94-2.06 2.06-.94-2.06-.94-.94-2.06-.94 2.06-2.06.94zm-11 1L8.5 8.5l.94-2.06 2.06-.94-2.06-.94L8.5 2.5l-.94 2.06-2.06.94zm10 10l.94 2.06.94-2.06 2.06-.94-2.06-.94-.94-2.06-.94 2.06-2.06.94z\"/><path d=\"M17.41 7.96l-1.37-1.37c-.4-.4-.92-.59-1.43-.59-.52 0-1.04.2-1.43.59L10.3 9.45l-7.72 7.72c-.78.78-.78 2.05 0 2.83L4 21.41c.39.39.9.59 1.41.59.51 0 1.02-.2 1.41-.59l7.78-7.78 2.81-2.81c.8-.78.8-2.07 0-2.86zM5.41 20L4 18.59l7.72-7.72 1.47 1.35L5.41 20z\"/>\n",
       "  </svg>\n",
       "      </button>\n",
       "      \n",
       "  <style>\n",
       "    .colab-df-container {\n",
       "      display:flex;\n",
       "      flex-wrap:wrap;\n",
       "      gap: 12px;\n",
       "    }\n",
       "\n",
       "    .colab-df-convert {\n",
       "      background-color: #E8F0FE;\n",
       "      border: none;\n",
       "      border-radius: 50%;\n",
       "      cursor: pointer;\n",
       "      display: none;\n",
       "      fill: #1967D2;\n",
       "      height: 32px;\n",
       "      padding: 0 0 0 0;\n",
       "      width: 32px;\n",
       "    }\n",
       "\n",
       "    .colab-df-convert:hover {\n",
       "      background-color: #E2EBFA;\n",
       "      box-shadow: 0px 1px 2px rgba(60, 64, 67, 0.3), 0px 1px 3px 1px rgba(60, 64, 67, 0.15);\n",
       "      fill: #174EA6;\n",
       "    }\n",
       "\n",
       "    [theme=dark] .colab-df-convert {\n",
       "      background-color: #3B4455;\n",
       "      fill: #D2E3FC;\n",
       "    }\n",
       "\n",
       "    [theme=dark] .colab-df-convert:hover {\n",
       "      background-color: #434B5C;\n",
       "      box-shadow: 0px 1px 3px 1px rgba(0, 0, 0, 0.15);\n",
       "      filter: drop-shadow(0px 1px 2px rgba(0, 0, 0, 0.3));\n",
       "      fill: #FFFFFF;\n",
       "    }\n",
       "  </style>\n",
       "\n",
       "      <script>\n",
       "        const buttonEl =\n",
       "          document.querySelector('#df-534c5e4b-4c11-4691-99cd-4fed11b57816 button.colab-df-convert');\n",
       "        buttonEl.style.display =\n",
       "          google.colab.kernel.accessAllowed ? 'block' : 'none';\n",
       "\n",
       "        async function convertToInteractive(key) {\n",
       "          const element = document.querySelector('#df-534c5e4b-4c11-4691-99cd-4fed11b57816');\n",
       "          const dataTable =\n",
       "            await google.colab.kernel.invokeFunction('convertToInteractive',\n",
       "                                                     [key], {});\n",
       "          if (!dataTable) return;\n",
       "\n",
       "          const docLinkHtml = 'Like what you see? Visit the ' +\n",
       "            '<a target=\"_blank\" href=https://colab.research.google.com/notebooks/data_table.ipynb>data table notebook</a>'\n",
       "            + ' to learn more about interactive tables.';\n",
       "          element.innerHTML = '';\n",
       "          dataTable['output_type'] = 'display_data';\n",
       "          await google.colab.output.renderOutput(dataTable, element);\n",
       "          const docLink = document.createElement('div');\n",
       "          docLink.innerHTML = docLinkHtml;\n",
       "          element.appendChild(docLink);\n",
       "        }\n",
       "      </script>\n",
       "    </div>\n",
       "  </div>\n",
       "  "
      ],
      "text/plain": [
       "              Age   RestingBP  Cholesterol   FastingBS       MaxHR  \\\n",
       "count  918.000000  918.000000   918.000000  918.000000  918.000000   \n",
       "mean    53.510893  132.396514   233.537623    0.233115  136.809368   \n",
       "std      9.432617   18.514154    59.075919    0.423046   25.460334   \n",
       "min     28.000000    0.000000    85.000000    0.000000   60.000000   \n",
       "25%     47.000000  120.000000   195.000000    0.000000  120.000000   \n",
       "50%     54.000000  130.000000   224.000000    0.000000  138.000000   \n",
       "75%     60.000000  140.000000   267.000000    0.000000  156.000000   \n",
       "max     77.000000  200.000000   603.000000    1.000000  202.000000   \n",
       "\n",
       "          Oldpeak  HeartDisease  \n",
       "count  918.000000    918.000000  \n",
       "mean     0.887364      0.553377  \n",
       "std      1.066570      0.497414  \n",
       "min     -2.600000      0.000000  \n",
       "25%      0.000000      0.000000  \n",
       "50%      0.600000      1.000000  \n",
       "75%      1.500000      1.000000  \n",
       "max      6.200000      1.000000  "
      ]
     },
     "execution_count": 44,
     "metadata": {},
     "output_type": "execute_result"
    }
   ],
   "source": [
    "df_filled.describe()"
   ]
  },
  {
   "cell_type": "markdown",
   "metadata": {
    "id": "Px4rOcn3skPW"
   },
   "source": [
    "### **Manual encoding**\n",
    "\n",
    "Here we encode numerically according to the results observe in our EDA. If the feature appears to have more values of a certain class, that may indicate a strong influence for the class, hence we assign more or less weight, depending on how the feature affect the class."
   ]
  },
  {
   "cell_type": "code",
   "execution_count": null,
   "metadata": {
    "id": "6X_xsUkHqvjG"
   },
   "outputs": [],
   "source": [
    "# copying the df\n",
    "df_train_man = df_filled.copy()\n",
    "\n",
    "# creating encoding dict\n",
    "Sex = {'M': 1, 'F': 0}\n",
    "ChestPainType = {'ATA': 1, 'NAP': 2, 'ASY': 3, 'TA': 0}\n",
    "RestingECG = {'Normal': 3, 'ST': 1.5, 'LVH': 1}\n",
    "ExerciseAngina = {'N': 1, 'Y': 0}\n",
    "ST_Slope = {'Down': 0, 'Flat': 2, 'Up': 1}\n",
    "\n",
    "# Encoding data\n",
    "\n",
    "df_train_man['Sex'] = df_train_man['Sex'].replace(Sex)\n",
    "df_train_man['ChestPainType'] = df_train_man['ChestPainType'].replace(ChestPainType)\n",
    "df_train_man['RestingECG'] = df_train_man['RestingECG'].replace(RestingECG)\n",
    "df_train_man['ExerciseAngina'] = df_train_man['ExerciseAngina'].replace(ExerciseAngina)\n",
    "df_train_man['ST_Slope'] = df_train_man['ST_Slope'].replace(ST_Slope)"
   ]
  },
  {
   "cell_type": "markdown",
   "metadata": {
    "id": "auTdhupEur04"
   },
   "source": [
    "### **Get Dummies encoding**\n",
    "\n",
    "Dummies are any variables that are either one or zero for each observation. pd.get_dummies when applied to a column of categories where we have one category per observation will produce a new column (variable) for each unique categorical value. It will place a one in the column corresponding to the categorical value present for that observation. This is equivalent to one hot encoding."
   ]
  },
  {
   "cell_type": "code",
   "execution_count": null,
   "metadata": {
    "id": "YpMEtgBluz7v"
   },
   "outputs": [],
   "source": [
    "# training data\n",
    "df_train_dummies = pd.get_dummies(df, drop_first = True)"
   ]
  },
  {
   "cell_type": "markdown",
   "metadata": {
    "id": "t0F-ucaslj97"
   },
   "source": [
    "<a id=\"model\"></a>\n",
    "## 6. **Model Building And Evaluation**"
   ]
  },
  {
   "cell_type": "markdown",
   "metadata": {
    "id": "wca-ZzrSwLXp"
   },
   "source": [
    "The train-test split is a technique for evaluating the performance of a machine learning algorithm.\n",
    "\n",
    "It can be used for classification or regression problems and can be used for any supervised learning algorithm.\n",
    "\n",
    "The procedure involves taking a dataset and dividing it into two subsets. The first subset is used to fit the model and is referred to as the training dataset. The second subset is not used to train the model; instead, the input element of the dataset is provided to the model, then predictions are made and compared to the expected values. This second dataset is referred to as the test dataset.\n",
    "\n",
    "**Train Dataset**: Used to fit the machine learning model.\n",
    "**Test Dataset**: Used to evaluate the fit machine learning model."
   ]
  },
  {
   "cell_type": "markdown",
   "metadata": {
    "id": "uR7_jlTcxR1r"
   },
   "source": [
    "**Data Encoded using manual encoding**"
   ]
  },
  {
   "cell_type": "code",
   "execution_count": null,
   "metadata": {
    "id": "nxD60MSavKX-"
   },
   "outputs": [],
   "source": [
    "# X and y\n",
    "X = df_train_man.drop(['HeartDisease'], axis = 1)\n",
    "\n",
    "y = df_train_man['HeartDisease']\n",
    "\n",
    "# splitting data for training and testing\n",
    "\n",
    "X_train, X_test, y_train, y_test = train_test_split(X, y, test_size = 0.2, random_state = 42)"
   ]
  },
  {
   "cell_type": "markdown",
   "metadata": {
    "id": "HQuSApibw8od"
   },
   "source": [
    "**Data Encoded using get_dummies**"
   ]
  },
  {
   "cell_type": "code",
   "execution_count": null,
   "metadata": {
    "id": "nHeOrLEewptB"
   },
   "outputs": [],
   "source": [
    "# X and y\n",
    "X = df_train_dummies.drop(['HeartDisease'], axis = 1)\n",
    "\n",
    "y = df_train_dummies['HeartDisease']\n",
    "\n",
    "# splitting data for training and testing\n",
    "\n",
    "X_train_d, X_test_d, y_train_d, y_test_d = train_test_split(X, y, test_size = 0.2, random_state = 42)"
   ]
  },
  {
   "cell_type": "markdown",
   "metadata": {
    "id": "dhPV_JtT0GeU"
   },
   "source": [
    "#### **LogisticRegression**\n",
    "\n",
    "The logistic model is a statistical model that models the probability of one event taking place by having the log-odds for the event be a linear combination of one or more independent variables. "
   ]
  },
  {
   "cell_type": "code",
   "execution_count": null,
   "metadata": {
    "colab": {
     "base_uri": "https://localhost:8080/"
    },
    "id": "PJdm3H6T0aIY",
    "outputId": "9978366f-fb97-4e29-b4e7-87d76b204fbc"
   },
   "outputs": [
    {
     "data": {
      "text/plain": [
       "LogisticRegression()"
      ]
     },
     "execution_count": 72,
     "metadata": {},
     "output_type": "execute_result"
    }
   ],
   "source": [
    "from sklearn.linear_model import LogisticRegression\n",
    "\n",
    "# Train model\n",
    "clf = LogisticRegression()\n",
    "clf.fit(X_train, y_train)\n",
    "\n",
    "clf_d = LogisticRegression()\n",
    "clf_d.fit(X_train_d, y_train_d)"
   ]
  },
  {
   "cell_type": "markdown",
   "metadata": {
    "id": "bXj_YnFdy_aS"
   },
   "source": [
    "#### **GradientBoostingClassifier**\n",
    "\n",
    "Gradient-boosted trees (GBTs) are a popular classification and regression method using ensembles of decision trees. A decision tree is a decision support tool that uses a tree-like model of decisions and their possible consequences, including chance event outcomes, resource costs, and utility. Gradient boosting is a machine learning technique used in regression and classification tasks, among others. It gives a prediction model in the form of an ensemble of weak prediction models, which are typically decision trees.When a decision tree is the weak learner, the resulting algorithm is called gradient-boosted trees."
   ]
  },
  {
   "cell_type": "code",
   "execution_count": null,
   "metadata": {
    "colab": {
     "base_uri": "https://localhost:8080/"
    },
    "id": "duKXqxzbx19r",
    "outputId": "7f1dc316-ae46-49ff-e596-71a8aaa12ad1"
   },
   "outputs": [
    {
     "data": {
      "text/plain": [
       "GradientBoostingClassifier(learning_rate=1.0, max_depth=5, n_estimators=200)"
      ]
     },
     "execution_count": 73,
     "metadata": {},
     "output_type": "execute_result"
    }
   ],
   "source": [
    "from sklearn.ensemble import GradientBoostingClassifier\n",
    "from sklearn.metrics import f1_score\n",
    "\n",
    "# train model\n",
    "GBC = GradientBoostingClassifier(n_estimators = 200, learning_rate = 1.0, max_depth = 5)\n",
    "GBC.fit(X_train, y_train)\n",
    "\n",
    "GBC_d = GradientBoostingClassifier(n_estimators = 200, learning_rate = 1.0, max_depth = 5)\n",
    "GBC_d.fit(X_train_d, y_train_d)\n"
   ]
  },
  {
   "cell_type": "markdown",
   "metadata": {
    "id": "FJdw6aRPzVdJ"
   },
   "source": [
    "#### **Random Forest Classifier**\n",
    "\n",
    "Random forests or random decision forests is an ensemble learning method for classification, regression and other tasks that operates by constructing a multitude of decision trees at training time. For classification tasks, the output of the random forest is the class selected by most trees."
   ]
  },
  {
   "cell_type": "code",
   "execution_count": null,
   "metadata": {
    "colab": {
     "base_uri": "https://localhost:8080/"
    },
    "id": "8DIqG-cmzQyU",
    "outputId": "c091e26b-d19d-4bdc-8f6c-5d8639f6e3d0"
   },
   "outputs": [
    {
     "data": {
      "text/plain": [
       "RandomForestClassifier(class_weight='balanced', max_depth=5)"
      ]
     },
     "execution_count": 74,
     "metadata": {},
     "output_type": "execute_result"
    }
   ],
   "source": [
    "from sklearn.ensemble import RandomForestClassifier\n",
    "from sklearn.metrics import f1_score\n",
    "from sklearn.metrics import accuracy_score\n",
    "rfc = RandomForestClassifier(n_estimators=100, max_depth=5, class_weight=\"balanced\")\n",
    "\n",
    "rfc_d = RandomForestClassifier(n_estimators=100, max_depth=5, class_weight=\"balanced\")\n",
    "#train the model \n",
    "rfc.fit(X_train, y_train)\n",
    "\n",
    "\n",
    "rfc_d.fit(X_train_d, y_train_d)\n"
   ]
  },
  {
   "cell_type": "markdown",
   "metadata": {
    "id": "egit7ZSS3Mq6"
   },
   "source": [
    "#### **Support Vector Machine**\n",
    "\n",
    "SVM works by mapping data to a high-dimensional feature space so that data points can be categorized, even when the data are not otherwise linearly separable. A separator between the categories is found, then the data are transformed in such a way that the separator could be drawn as a hyperplane."
   ]
  },
  {
   "cell_type": "code",
   "execution_count": null,
   "metadata": {
    "colab": {
     "base_uri": "https://localhost:8080/"
    },
    "id": "2yeb_x4I1TAO",
    "outputId": "24f5e571-8d65-4ab1-ee41-3eb3a8cb5817"
   },
   "outputs": [
    {
     "data": {
      "text/plain": [
       "SVC()"
      ]
     },
     "execution_count": 75,
     "metadata": {},
     "output_type": "execute_result"
    }
   ],
   "source": [
    "from sklearn import svm\n",
    "\n",
    "# Train model\n",
    "SVM = svm.SVC()\n",
    "SVM.fit(X_train, y_train)\n",
    "\n",
    "SVM_d = svm.SVC()\n",
    "SVM_d.fit(X_train_d, y_train_d)"
   ]
  },
  {
   "cell_type": "markdown",
   "metadata": {
    "id": "HDVTKe4Z15vQ"
   },
   "source": [
    "## **Model Evaluation**\n",
    "\n",
    "Model Evaluation is an integral part of the model development process. It helps to find the best model that represents our data and how well the chosen model will work in the future."
   ]
  },
  {
   "cell_type": "code",
   "execution_count": null,
   "metadata": {
    "colab": {
     "base_uri": "https://localhost:8080/",
     "height": 175
    },
    "id": "1cZMfNIf2HMe",
    "outputId": "980643bb-fb22-40b6-90ab-aa9b83b6e654"
   },
   "outputs": [
    {
     "data": {
      "text/html": [
       "\n",
       "  <div id=\"df-fa0c2f40-6b4e-4e12-be51-628a337980d1\">\n",
       "    <div class=\"colab-df-container\">\n",
       "      <div>\n",
       "<style scoped>\n",
       "    .dataframe tbody tr th:only-of-type {\n",
       "        vertical-align: middle;\n",
       "    }\n",
       "\n",
       "    .dataframe tbody tr th {\n",
       "        vertical-align: top;\n",
       "    }\n",
       "\n",
       "    .dataframe thead th {\n",
       "        text-align: right;\n",
       "    }\n",
       "</style>\n",
       "<table border=\"1\" class=\"dataframe\">\n",
       "  <thead>\n",
       "    <tr style=\"text-align: right;\">\n",
       "      <th></th>\n",
       "      <th>Manual Encoding</th>\n",
       "      <th>Get_Dummies Encoding</th>\n",
       "    </tr>\n",
       "  </thead>\n",
       "  <tbody>\n",
       "    <tr>\n",
       "      <th>GradientBoostingClassifier</th>\n",
       "      <td>0.836957</td>\n",
       "      <td>0.858696</td>\n",
       "    </tr>\n",
       "    <tr>\n",
       "      <th>RandomForestClassifier</th>\n",
       "      <td>0.858696</td>\n",
       "      <td>0.853261</td>\n",
       "    </tr>\n",
       "    <tr>\n",
       "      <th>SupportVectorMachine</th>\n",
       "      <td>0.625000</td>\n",
       "      <td>0.684783</td>\n",
       "    </tr>\n",
       "    <tr>\n",
       "      <th>LogisticRegression</th>\n",
       "      <td>0.847826</td>\n",
       "      <td>0.847826</td>\n",
       "    </tr>\n",
       "  </tbody>\n",
       "</table>\n",
       "</div>\n",
       "      <button class=\"colab-df-convert\" onclick=\"convertToInteractive('df-fa0c2f40-6b4e-4e12-be51-628a337980d1')\"\n",
       "              title=\"Convert this dataframe to an interactive table.\"\n",
       "              style=\"display:none;\">\n",
       "        \n",
       "  <svg xmlns=\"http://www.w3.org/2000/svg\" height=\"24px\"viewBox=\"0 0 24 24\"\n",
       "       width=\"24px\">\n",
       "    <path d=\"M0 0h24v24H0V0z\" fill=\"none\"/>\n",
       "    <path d=\"M18.56 5.44l.94 2.06.94-2.06 2.06-.94-2.06-.94-.94-2.06-.94 2.06-2.06.94zm-11 1L8.5 8.5l.94-2.06 2.06-.94-2.06-.94L8.5 2.5l-.94 2.06-2.06.94zm10 10l.94 2.06.94-2.06 2.06-.94-2.06-.94-.94-2.06-.94 2.06-2.06.94z\"/><path d=\"M17.41 7.96l-1.37-1.37c-.4-.4-.92-.59-1.43-.59-.52 0-1.04.2-1.43.59L10.3 9.45l-7.72 7.72c-.78.78-.78 2.05 0 2.83L4 21.41c.39.39.9.59 1.41.59.51 0 1.02-.2 1.41-.59l7.78-7.78 2.81-2.81c.8-.78.8-2.07 0-2.86zM5.41 20L4 18.59l7.72-7.72 1.47 1.35L5.41 20z\"/>\n",
       "  </svg>\n",
       "      </button>\n",
       "      \n",
       "  <style>\n",
       "    .colab-df-container {\n",
       "      display:flex;\n",
       "      flex-wrap:wrap;\n",
       "      gap: 12px;\n",
       "    }\n",
       "\n",
       "    .colab-df-convert {\n",
       "      background-color: #E8F0FE;\n",
       "      border: none;\n",
       "      border-radius: 50%;\n",
       "      cursor: pointer;\n",
       "      display: none;\n",
       "      fill: #1967D2;\n",
       "      height: 32px;\n",
       "      padding: 0 0 0 0;\n",
       "      width: 32px;\n",
       "    }\n",
       "\n",
       "    .colab-df-convert:hover {\n",
       "      background-color: #E2EBFA;\n",
       "      box-shadow: 0px 1px 2px rgba(60, 64, 67, 0.3), 0px 1px 3px 1px rgba(60, 64, 67, 0.15);\n",
       "      fill: #174EA6;\n",
       "    }\n",
       "\n",
       "    [theme=dark] .colab-df-convert {\n",
       "      background-color: #3B4455;\n",
       "      fill: #D2E3FC;\n",
       "    }\n",
       "\n",
       "    [theme=dark] .colab-df-convert:hover {\n",
       "      background-color: #434B5C;\n",
       "      box-shadow: 0px 1px 3px 1px rgba(0, 0, 0, 0.15);\n",
       "      filter: drop-shadow(0px 1px 2px rgba(0, 0, 0, 0.3));\n",
       "      fill: #FFFFFF;\n",
       "    }\n",
       "  </style>\n",
       "\n",
       "      <script>\n",
       "        const buttonEl =\n",
       "          document.querySelector('#df-fa0c2f40-6b4e-4e12-be51-628a337980d1 button.colab-df-convert');\n",
       "        buttonEl.style.display =\n",
       "          google.colab.kernel.accessAllowed ? 'block' : 'none';\n",
       "\n",
       "        async function convertToInteractive(key) {\n",
       "          const element = document.querySelector('#df-fa0c2f40-6b4e-4e12-be51-628a337980d1');\n",
       "          const dataTable =\n",
       "            await google.colab.kernel.invokeFunction('convertToInteractive',\n",
       "                                                     [key], {});\n",
       "          if (!dataTable) return;\n",
       "\n",
       "          const docLinkHtml = 'Like what you see? Visit the ' +\n",
       "            '<a target=\"_blank\" href=https://colab.research.google.com/notebooks/data_table.ipynb>data table notebook</a>'\n",
       "            + ' to learn more about interactive tables.';\n",
       "          element.innerHTML = '';\n",
       "          dataTable['output_type'] = 'display_data';\n",
       "          await google.colab.output.renderOutput(dataTable, element);\n",
       "          const docLink = document.createElement('div');\n",
       "          docLink.innerHTML = docLinkHtml;\n",
       "          element.appendChild(docLink);\n",
       "        }\n",
       "      </script>\n",
       "    </div>\n",
       "  </div>\n",
       "  "
      ],
      "text/plain": [
       "                            Manual Encoding  Get_Dummies Encoding\n",
       "GradientBoostingClassifier         0.836957              0.858696\n",
       "RandomForestClassifier             0.858696              0.853261\n",
       "SupportVectorMachine               0.625000              0.684783\n",
       "LogisticRegression                 0.847826              0.847826"
      ]
     },
     "execution_count": 76,
     "metadata": {},
     "output_type": "execute_result"
    }
   ],
   "source": [
    "# Dictionary of results\n",
    "results_dict = {'Manual Encoding':\n",
    "                    {\n",
    "                        \"GradientBoostingClassifier\": accuracy_score(y_test, GBC.predict(X_test)),\n",
    "                        \"RandomForestClassifier\": accuracy_score(y_test, rfc.predict(X_test)),\n",
    "                        \"SupportVectorMachine\": accuracy_score(y_test, SVM.predict(X_test)),\n",
    "                        \"LogisticRegression\": accuracy_score(y_test, clf.predict(X_test))\n",
    "                        \n",
    "                    },\n",
    "                    'Get_Dummies Encoding':\n",
    "                    {\n",
    "                        \"GradientBoostingClassifier\": accuracy_score(y_test_d, GBC_d.predict(X_test_d)),\n",
    "                        \"RandomForestClassifier\": accuracy_score(y_test_d, rfc_d.predict(X_test_d)),\n",
    "                        \"SupportVectorMachine\": accuracy_score(y_test_d, SVM_d.predict(X_test_d)),\n",
    "                        \"LogisticRegression\": accuracy_score(y_test_d, clf_d.predict(X_test_d))\n",
    "                        \n",
    "                    }\n",
    "\n",
    "                }\n",
    "\n",
    "# Create dataframe from dictionary\n",
    "results = pd.DataFrame(results_dict)\n",
    "results.head()"
   ]
  },
  {
   "cell_type": "markdown",
   "metadata": {
    "id": "geMNKPR1pe1a"
   },
   "source": [
    "<a id=\"evaluation\"></a>\n",
    "## 7. **Model Parameter Tuning**"
   ]
  },
  {
   "cell_type": "markdown",
   "metadata": {
    "id": "DZdmhLWYU7gP"
   },
   "source": [
    "Hyperparameter tuning is the process by which a set of ideal hyperparameters are chosen for a model. A hyperparameter is a parameter for which the value is set manually and tuned to control the algorithm's learning process."
   ]
  },
  {
   "cell_type": "code",
   "execution_count": null,
   "metadata": {
    "colab": {
     "base_uri": "https://localhost:8080/"
    },
    "id": "3obgUTVcY6-T",
    "outputId": "ddd2cb62-a5e8-4a4c-ebde-3d674ca1b402"
   },
   "outputs": [
    {
     "name": "stdout",
     "output_type": "stream",
     "text": [
      "Fitting 2 folds for each of 48 candidates, totalling 96 fits\n"
     ]
    },
    {
     "data": {
      "text/plain": [
       "GridSearchCV(cv=2, estimator=RandomForestClassifier(), n_jobs=-1,\n",
       "             param_grid={'bootstrap': [True], 'max_depth': [3, 5, 7],\n",
       "                         'min_samples_leaf': [3, 5],\n",
       "                         'min_samples_split': [2, 5],\n",
       "                         'n_estimators': [100, 150, 180, 200]},\n",
       "             scoring='accuracy', verbose=2)"
      ]
     },
     "execution_count": 77,
     "metadata": {},
     "output_type": "execute_result"
    }
   ],
   "source": [
    "from sklearn.model_selection import GridSearchCV\n",
    "#manual encoded \n",
    "param_grid = {\n",
    "    'bootstrap': [True],\n",
    "    'max_depth': [3,5, 7],\n",
    "    'min_samples_leaf': [3, 5],\n",
    "    'min_samples_split': [2, 5],\n",
    "    'n_estimators': [100, 150, 180, 200]\n",
    "}\n",
    "rfc = RandomForestClassifier()\n",
    "\n",
    "grid_search = GridSearchCV(estimator = rfc, param_grid = param_grid, \n",
    "                          cv = 2, scoring = 'accuracy', n_jobs = -1, verbose = 2)\n",
    "\n",
    "grid_search.fit(X_train,y_train)\n"
   ]
  },
  {
   "cell_type": "code",
   "execution_count": null,
   "metadata": {
    "colab": {
     "base_uri": "https://localhost:8080/"
    },
    "id": "Bp-bCq7vevJv",
    "outputId": "85370bf8-7580-45aa-f1f9-5942479914b5"
   },
   "outputs": [
    {
     "data": {
      "text/plain": [
       "{'bootstrap': True,\n",
       " 'max_depth': 7,\n",
       " 'min_samples_leaf': 3,\n",
       " 'min_samples_split': 2,\n",
       " 'n_estimators': 200}"
      ]
     },
     "execution_count": 78,
     "metadata": {},
     "output_type": "execute_result"
    }
   ],
   "source": [
    "grid_search.best_params_"
   ]
  },
  {
   "cell_type": "code",
   "execution_count": null,
   "metadata": {
    "colab": {
     "base_uri": "https://localhost:8080/"
    },
    "id": "Nj6a0bUOdWhc",
    "outputId": "ba62e703-becc-43ee-8e4d-dae1d872dcdc"
   },
   "outputs": [
    {
     "name": "stdout",
     "output_type": "stream",
     "text": [
      "Fitting 2 folds for each of 48 candidates, totalling 96 fits\n"
     ]
    },
    {
     "data": {
      "text/plain": [
       "GridSearchCV(cv=2, estimator=RandomForestClassifier(), n_jobs=-1,\n",
       "             param_grid={'bootstrap': [True], 'max_depth': [3, 5, 7],\n",
       "                         'min_samples_leaf': [3, 5],\n",
       "                         'min_samples_split': [2, 5],\n",
       "                         'n_estimators': [100, 150, 180, 200]},\n",
       "             scoring='accuracy', verbose=2)"
      ]
     },
     "execution_count": 79,
     "metadata": {},
     "output_type": "execute_result"
    }
   ],
   "source": [
    "from sklearn.model_selection import GridSearchCV\n",
    "#dummies encoded\n",
    "param_grid = {\n",
    "    'bootstrap': [True],\n",
    "    'max_depth': [3,5, 7],\n",
    "    'min_samples_leaf': [3, 5],\n",
    "    'min_samples_split': [2, 5],\n",
    "    'n_estimators': [100, 150, 180, 200]\n",
    "}\n",
    "rfc = RandomForestClassifier()\n",
    "\n",
    "grid_search = GridSearchCV(estimator = rfc, param_grid = param_grid, \n",
    "                          cv = 2, scoring = 'accuracy', n_jobs = -1, verbose = 2)\n",
    "\n",
    "grid_search.fit(X_train_d,y_train_d)"
   ]
  },
  {
   "cell_type": "code",
   "execution_count": null,
   "metadata": {
    "colab": {
     "base_uri": "https://localhost:8080/"
    },
    "id": "ZiRL55KRh5cP",
    "outputId": "4d0fc0ce-8ace-41ca-b486-703156c5e86a"
   },
   "outputs": [
    {
     "data": {
      "text/plain": [
       "{'bootstrap': True,\n",
       " 'max_depth': 7,\n",
       " 'min_samples_leaf': 3,\n",
       " 'min_samples_split': 2,\n",
       " 'n_estimators': 180}"
      ]
     },
     "execution_count": 80,
     "metadata": {},
     "output_type": "execute_result"
    }
   ],
   "source": [
    "grid_search.best_params_"
   ]
  },
  {
   "cell_type": "code",
   "execution_count": null,
   "metadata": {
    "colab": {
     "base_uri": "https://localhost:8080/"
    },
    "id": "VjkmXZQ2jysj",
    "outputId": "2578d04c-75d1-410b-d5d9-a753070179b0"
   },
   "outputs": [
    {
     "data": {
      "text/plain": [
       "RandomForestClassifier(class_weight='balanced', max_depth=5, min_samples_leaf=3,\n",
       "                       n_estimators=150)"
      ]
     },
     "execution_count": 81,
     "metadata": {},
     "output_type": "execute_result"
    }
   ],
   "source": [
    "t_rfc = RandomForestClassifier( bootstrap = True, max_depth = 5, min_samples_leaf = 3,\n",
    "                               min_samples_split = 5, n_estimators = 200, class_weight=\"balanced\")\n",
    "\n",
    "t_rfc_d = RandomForestClassifier(bootstrap = True, max_depth =  5, min_samples_leaf = 3, \n",
    "                                 min_samples_split = 2, n_estimators =  150, class_weight=\"balanced\")\n",
    "#train the model \n",
    "t_rfc.fit(X_train, y_train)\n",
    "\n",
    "\n",
    "t_rfc_d.fit(X_train_d, y_train_d)\n"
   ]
  },
  {
   "cell_type": "code",
   "execution_count": null,
   "metadata": {
    "colab": {
     "base_uri": "https://localhost:8080/",
     "height": 81
    },
    "id": "Dl6OOnxOpokx",
    "outputId": "9d93a1e2-bf68-4afe-ae9d-e90f2cee98ab"
   },
   "outputs": [
    {
     "data": {
      "text/html": [
       "\n",
       "  <div id=\"df-c6b58698-6734-485c-88e1-1de8b2b467e6\">\n",
       "    <div class=\"colab-df-container\">\n",
       "      <div>\n",
       "<style scoped>\n",
       "    .dataframe tbody tr th:only-of-type {\n",
       "        vertical-align: middle;\n",
       "    }\n",
       "\n",
       "    .dataframe tbody tr th {\n",
       "        vertical-align: top;\n",
       "    }\n",
       "\n",
       "    .dataframe thead th {\n",
       "        text-align: right;\n",
       "    }\n",
       "</style>\n",
       "<table border=\"1\" class=\"dataframe\">\n",
       "  <thead>\n",
       "    <tr style=\"text-align: right;\">\n",
       "      <th></th>\n",
       "      <th>Manual Encoding</th>\n",
       "      <th>Get_Dummies Encoding</th>\n",
       "    </tr>\n",
       "  </thead>\n",
       "  <tbody>\n",
       "    <tr>\n",
       "      <th>RandomForestClassifier</th>\n",
       "      <td>0.853261</td>\n",
       "      <td>0.86413</td>\n",
       "    </tr>\n",
       "  </tbody>\n",
       "</table>\n",
       "</div>\n",
       "      <button class=\"colab-df-convert\" onclick=\"convertToInteractive('df-c6b58698-6734-485c-88e1-1de8b2b467e6')\"\n",
       "              title=\"Convert this dataframe to an interactive table.\"\n",
       "              style=\"display:none;\">\n",
       "        \n",
       "  <svg xmlns=\"http://www.w3.org/2000/svg\" height=\"24px\"viewBox=\"0 0 24 24\"\n",
       "       width=\"24px\">\n",
       "    <path d=\"M0 0h24v24H0V0z\" fill=\"none\"/>\n",
       "    <path d=\"M18.56 5.44l.94 2.06.94-2.06 2.06-.94-2.06-.94-.94-2.06-.94 2.06-2.06.94zm-11 1L8.5 8.5l.94-2.06 2.06-.94-2.06-.94L8.5 2.5l-.94 2.06-2.06.94zm10 10l.94 2.06.94-2.06 2.06-.94-2.06-.94-.94-2.06-.94 2.06-2.06.94z\"/><path d=\"M17.41 7.96l-1.37-1.37c-.4-.4-.92-.59-1.43-.59-.52 0-1.04.2-1.43.59L10.3 9.45l-7.72 7.72c-.78.78-.78 2.05 0 2.83L4 21.41c.39.39.9.59 1.41.59.51 0 1.02-.2 1.41-.59l7.78-7.78 2.81-2.81c.8-.78.8-2.07 0-2.86zM5.41 20L4 18.59l7.72-7.72 1.47 1.35L5.41 20z\"/>\n",
       "  </svg>\n",
       "      </button>\n",
       "      \n",
       "  <style>\n",
       "    .colab-df-container {\n",
       "      display:flex;\n",
       "      flex-wrap:wrap;\n",
       "      gap: 12px;\n",
       "    }\n",
       "\n",
       "    .colab-df-convert {\n",
       "      background-color: #E8F0FE;\n",
       "      border: none;\n",
       "      border-radius: 50%;\n",
       "      cursor: pointer;\n",
       "      display: none;\n",
       "      fill: #1967D2;\n",
       "      height: 32px;\n",
       "      padding: 0 0 0 0;\n",
       "      width: 32px;\n",
       "    }\n",
       "\n",
       "    .colab-df-convert:hover {\n",
       "      background-color: #E2EBFA;\n",
       "      box-shadow: 0px 1px 2px rgba(60, 64, 67, 0.3), 0px 1px 3px 1px rgba(60, 64, 67, 0.15);\n",
       "      fill: #174EA6;\n",
       "    }\n",
       "\n",
       "    [theme=dark] .colab-df-convert {\n",
       "      background-color: #3B4455;\n",
       "      fill: #D2E3FC;\n",
       "    }\n",
       "\n",
       "    [theme=dark] .colab-df-convert:hover {\n",
       "      background-color: #434B5C;\n",
       "      box-shadow: 0px 1px 3px 1px rgba(0, 0, 0, 0.15);\n",
       "      filter: drop-shadow(0px 1px 2px rgba(0, 0, 0, 0.3));\n",
       "      fill: #FFFFFF;\n",
       "    }\n",
       "  </style>\n",
       "\n",
       "      <script>\n",
       "        const buttonEl =\n",
       "          document.querySelector('#df-c6b58698-6734-485c-88e1-1de8b2b467e6 button.colab-df-convert');\n",
       "        buttonEl.style.display =\n",
       "          google.colab.kernel.accessAllowed ? 'block' : 'none';\n",
       "\n",
       "        async function convertToInteractive(key) {\n",
       "          const element = document.querySelector('#df-c6b58698-6734-485c-88e1-1de8b2b467e6');\n",
       "          const dataTable =\n",
       "            await google.colab.kernel.invokeFunction('convertToInteractive',\n",
       "                                                     [key], {});\n",
       "          if (!dataTable) return;\n",
       "\n",
       "          const docLinkHtml = 'Like what you see? Visit the ' +\n",
       "            '<a target=\"_blank\" href=https://colab.research.google.com/notebooks/data_table.ipynb>data table notebook</a>'\n",
       "            + ' to learn more about interactive tables.';\n",
       "          element.innerHTML = '';\n",
       "          dataTable['output_type'] = 'display_data';\n",
       "          await google.colab.output.renderOutput(dataTable, element);\n",
       "          const docLink = document.createElement('div');\n",
       "          docLink.innerHTML = docLinkHtml;\n",
       "          element.appendChild(docLink);\n",
       "        }\n",
       "      </script>\n",
       "    </div>\n",
       "  </div>\n",
       "  "
      ],
      "text/plain": [
       "                        Manual Encoding  Get_Dummies Encoding\n",
       "RandomForestClassifier         0.853261               0.86413"
      ]
     },
     "execution_count": 82,
     "metadata": {},
     "output_type": "execute_result"
    }
   ],
   "source": [
    "t_results_dict = {'Manual Encoding':\n",
    "                                    { \"RandomForestClassifier\": accuracy_score(y_test, t_rfc.predict(X_test)) },\n",
    "                 'Get_Dummies Encoding':\n",
    "                                     { \"RandomForestClassifier\": accuracy_score(y_test_d, t_rfc_d.predict(X_test_d)) }\n",
    "                }\n",
    "# Create dataframe from dictionary\n",
    "results = pd.DataFrame(t_results_dict)\n",
    "results.head()"
   ]
  },
  {
   "cell_type": "markdown",
   "metadata": {
    "id": "5l4TGiU4pjbp"
   },
   "source": [
    "<a id=\"conclusion\"></a>\n",
    "## 8. **Conclusion**"
   ]
  },
  {
   "cell_type": "markdown",
   "metadata": {
    "id": "NFcy4jAbvxDw"
   },
   "source": [
    "In this project we were able to analyse the different elements that could contribute to one having heart disease. With regads to the EDA one can conclude that males are more likely to get heart disease as they grow older. Our data consisted categorial variables which were addressed durirng the feature engineering. Dummy encoded data perfomed better than the manual encoding. However in terms of the streamlit app, we decided to use manual encoding. As it is easy to keep in track. The to performing model was the Random Forest Classifier. The hyperarameter tuning was used to increase the models performance, which it did. \n",
    "\n",
    "In this project, we were able develop a healthcare application using streamlit to help detect heart diseases among patients.This application depends on the heart disease dataset that involves data of the patients, which are Age, Sex, Chest pain type, and many more."
   ]
  },
  {
   "cell_type": "markdown",
   "metadata": {
    "id": "D6yfMmBTps4K"
   },
   "source": [
    "<a id=\"references\"></a>\n",
    "## 9. **References**"
   ]
  },
  {
   "cell_type": "markdown",
   "metadata": {
    "id": "PkB-doJFV9N9"
   },
   "source": [
    "Chang, V., Bhavani, V., Xu, A. and Hossain, M., 2022. An artificial intelligence model for heart disease detection using machine learning algorithms. Healthcare Analytics, 2, p.100016.\n",
    "\n",
    "Gulati, A., 2022. Heart Disease Prediction using Machine Learning - Analytics Vidhya. [online] Analytics Vidhya. Available at: <https://www.analyticsvidhya.com/blog/2022/02/heart-disease-prediction-using-machine-learning/> [Accessed 30 June 2022]."
   ]
  }
 ],
 "metadata": {
  "colab": {
   "include_colab_link": true,
   "name": "Heart Failure.ipynb",
   "provenance": []
  },
  "kernelspec": {
   "display_name": "Python 3",
   "language": "python",
   "name": "python3"
  },
  "language_info": {
   "codemirror_mode": {
    "name": "ipython",
    "version": 3
   },
   "file_extension": ".py",
   "mimetype": "text/x-python",
   "name": "python",
   "nbconvert_exporter": "python",
   "pygments_lexer": "ipython3",
   "version": "3.8.8"
  }
 },
 "nbformat": 4,
 "nbformat_minor": 1
}
